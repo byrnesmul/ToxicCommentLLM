{
  "nbformat": 4,
  "nbformat_minor": 0,
  "metadata": {
    "colab": {
      "provenance": [],
      "gpuType": "T4"
    },
    "kernelspec": {
      "name": "python3",
      "display_name": "Python 3"
    },
    "language_info": {
      "name": "python"
    },
    "accelerator": "GPU",
    "widgets": {
      "application/vnd.jupyter.widget-state+json": {
        "f4570d6ac4dd4531b100e0155c3c18f7": {
          "model_module": "@jupyter-widgets/controls",
          "model_name": "HBoxModel",
          "model_module_version": "1.5.0",
          "state": {
            "_dom_classes": [],
            "_model_module": "@jupyter-widgets/controls",
            "_model_module_version": "1.5.0",
            "_model_name": "HBoxModel",
            "_view_count": null,
            "_view_module": "@jupyter-widgets/controls",
            "_view_module_version": "1.5.0",
            "_view_name": "HBoxView",
            "box_style": "",
            "children": [
              "IPY_MODEL_5c54ccdb02f945668d935383780eee0b",
              "IPY_MODEL_b4c8108cb45644ee99be5cf523ee4a86",
              "IPY_MODEL_2f895491e2144f30b99a40f499bf62e4"
            ],
            "layout": "IPY_MODEL_7fc024fae7ca4efa981dc80daa606aa5"
          }
        },
        "5c54ccdb02f945668d935383780eee0b": {
          "model_module": "@jupyter-widgets/controls",
          "model_name": "HTMLModel",
          "model_module_version": "1.5.0",
          "state": {
            "_dom_classes": [],
            "_model_module": "@jupyter-widgets/controls",
            "_model_module_version": "1.5.0",
            "_model_name": "HTMLModel",
            "_view_count": null,
            "_view_module": "@jupyter-widgets/controls",
            "_view_module_version": "1.5.0",
            "_view_name": "HTMLView",
            "description": "",
            "description_tooltip": null,
            "layout": "IPY_MODEL_14c9da46d1254a3cad6d328b6ffdbeb9",
            "placeholder": "​",
            "style": "IPY_MODEL_3f7348916af54920bfbe1b11cb27dba4",
            "value": "Map: 100%"
          }
        },
        "b4c8108cb45644ee99be5cf523ee4a86": {
          "model_module": "@jupyter-widgets/controls",
          "model_name": "FloatProgressModel",
          "model_module_version": "1.5.0",
          "state": {
            "_dom_classes": [],
            "_model_module": "@jupyter-widgets/controls",
            "_model_module_version": "1.5.0",
            "_model_name": "FloatProgressModel",
            "_view_count": null,
            "_view_module": "@jupyter-widgets/controls",
            "_view_module_version": "1.5.0",
            "_view_name": "ProgressView",
            "bar_style": "success",
            "description": "",
            "description_tooltip": null,
            "layout": "IPY_MODEL_4b59a5605d3f4fe68453353d45103ab3",
            "max": 5092,
            "min": 0,
            "orientation": "horizontal",
            "style": "IPY_MODEL_9f1f9267b5294fc5b3834b29a64396c1",
            "value": 5092
          }
        },
        "2f895491e2144f30b99a40f499bf62e4": {
          "model_module": "@jupyter-widgets/controls",
          "model_name": "HTMLModel",
          "model_module_version": "1.5.0",
          "state": {
            "_dom_classes": [],
            "_model_module": "@jupyter-widgets/controls",
            "_model_module_version": "1.5.0",
            "_model_name": "HTMLModel",
            "_view_count": null,
            "_view_module": "@jupyter-widgets/controls",
            "_view_module_version": "1.5.0",
            "_view_name": "HTMLView",
            "description": "",
            "description_tooltip": null,
            "layout": "IPY_MODEL_ea9f497d349244ecbea3be72735a40ec",
            "placeholder": "​",
            "style": "IPY_MODEL_71cba34ac4be425cb8c8708ec92fd153",
            "value": " 5092/5092 [00:00&lt;00:00, 7953.04 examples/s]"
          }
        },
        "7fc024fae7ca4efa981dc80daa606aa5": {
          "model_module": "@jupyter-widgets/base",
          "model_name": "LayoutModel",
          "model_module_version": "1.2.0",
          "state": {
            "_model_module": "@jupyter-widgets/base",
            "_model_module_version": "1.2.0",
            "_model_name": "LayoutModel",
            "_view_count": null,
            "_view_module": "@jupyter-widgets/base",
            "_view_module_version": "1.2.0",
            "_view_name": "LayoutView",
            "align_content": null,
            "align_items": null,
            "align_self": null,
            "border": null,
            "bottom": null,
            "display": null,
            "flex": null,
            "flex_flow": null,
            "grid_area": null,
            "grid_auto_columns": null,
            "grid_auto_flow": null,
            "grid_auto_rows": null,
            "grid_column": null,
            "grid_gap": null,
            "grid_row": null,
            "grid_template_areas": null,
            "grid_template_columns": null,
            "grid_template_rows": null,
            "height": null,
            "justify_content": null,
            "justify_items": null,
            "left": null,
            "margin": null,
            "max_height": null,
            "max_width": null,
            "min_height": null,
            "min_width": null,
            "object_fit": null,
            "object_position": null,
            "order": null,
            "overflow": null,
            "overflow_x": null,
            "overflow_y": null,
            "padding": null,
            "right": null,
            "top": null,
            "visibility": null,
            "width": null
          }
        },
        "14c9da46d1254a3cad6d328b6ffdbeb9": {
          "model_module": "@jupyter-widgets/base",
          "model_name": "LayoutModel",
          "model_module_version": "1.2.0",
          "state": {
            "_model_module": "@jupyter-widgets/base",
            "_model_module_version": "1.2.0",
            "_model_name": "LayoutModel",
            "_view_count": null,
            "_view_module": "@jupyter-widgets/base",
            "_view_module_version": "1.2.0",
            "_view_name": "LayoutView",
            "align_content": null,
            "align_items": null,
            "align_self": null,
            "border": null,
            "bottom": null,
            "display": null,
            "flex": null,
            "flex_flow": null,
            "grid_area": null,
            "grid_auto_columns": null,
            "grid_auto_flow": null,
            "grid_auto_rows": null,
            "grid_column": null,
            "grid_gap": null,
            "grid_row": null,
            "grid_template_areas": null,
            "grid_template_columns": null,
            "grid_template_rows": null,
            "height": null,
            "justify_content": null,
            "justify_items": null,
            "left": null,
            "margin": null,
            "max_height": null,
            "max_width": null,
            "min_height": null,
            "min_width": null,
            "object_fit": null,
            "object_position": null,
            "order": null,
            "overflow": null,
            "overflow_x": null,
            "overflow_y": null,
            "padding": null,
            "right": null,
            "top": null,
            "visibility": null,
            "width": null
          }
        },
        "3f7348916af54920bfbe1b11cb27dba4": {
          "model_module": "@jupyter-widgets/controls",
          "model_name": "DescriptionStyleModel",
          "model_module_version": "1.5.0",
          "state": {
            "_model_module": "@jupyter-widgets/controls",
            "_model_module_version": "1.5.0",
            "_model_name": "DescriptionStyleModel",
            "_view_count": null,
            "_view_module": "@jupyter-widgets/base",
            "_view_module_version": "1.2.0",
            "_view_name": "StyleView",
            "description_width": ""
          }
        },
        "4b59a5605d3f4fe68453353d45103ab3": {
          "model_module": "@jupyter-widgets/base",
          "model_name": "LayoutModel",
          "model_module_version": "1.2.0",
          "state": {
            "_model_module": "@jupyter-widgets/base",
            "_model_module_version": "1.2.0",
            "_model_name": "LayoutModel",
            "_view_count": null,
            "_view_module": "@jupyter-widgets/base",
            "_view_module_version": "1.2.0",
            "_view_name": "LayoutView",
            "align_content": null,
            "align_items": null,
            "align_self": null,
            "border": null,
            "bottom": null,
            "display": null,
            "flex": null,
            "flex_flow": null,
            "grid_area": null,
            "grid_auto_columns": null,
            "grid_auto_flow": null,
            "grid_auto_rows": null,
            "grid_column": null,
            "grid_gap": null,
            "grid_row": null,
            "grid_template_areas": null,
            "grid_template_columns": null,
            "grid_template_rows": null,
            "height": null,
            "justify_content": null,
            "justify_items": null,
            "left": null,
            "margin": null,
            "max_height": null,
            "max_width": null,
            "min_height": null,
            "min_width": null,
            "object_fit": null,
            "object_position": null,
            "order": null,
            "overflow": null,
            "overflow_x": null,
            "overflow_y": null,
            "padding": null,
            "right": null,
            "top": null,
            "visibility": null,
            "width": null
          }
        },
        "9f1f9267b5294fc5b3834b29a64396c1": {
          "model_module": "@jupyter-widgets/controls",
          "model_name": "ProgressStyleModel",
          "model_module_version": "1.5.0",
          "state": {
            "_model_module": "@jupyter-widgets/controls",
            "_model_module_version": "1.5.0",
            "_model_name": "ProgressStyleModel",
            "_view_count": null,
            "_view_module": "@jupyter-widgets/base",
            "_view_module_version": "1.2.0",
            "_view_name": "StyleView",
            "bar_color": null,
            "description_width": ""
          }
        },
        "ea9f497d349244ecbea3be72735a40ec": {
          "model_module": "@jupyter-widgets/base",
          "model_name": "LayoutModel",
          "model_module_version": "1.2.0",
          "state": {
            "_model_module": "@jupyter-widgets/base",
            "_model_module_version": "1.2.0",
            "_model_name": "LayoutModel",
            "_view_count": null,
            "_view_module": "@jupyter-widgets/base",
            "_view_module_version": "1.2.0",
            "_view_name": "LayoutView",
            "align_content": null,
            "align_items": null,
            "align_self": null,
            "border": null,
            "bottom": null,
            "display": null,
            "flex": null,
            "flex_flow": null,
            "grid_area": null,
            "grid_auto_columns": null,
            "grid_auto_flow": null,
            "grid_auto_rows": null,
            "grid_column": null,
            "grid_gap": null,
            "grid_row": null,
            "grid_template_areas": null,
            "grid_template_columns": null,
            "grid_template_rows": null,
            "height": null,
            "justify_content": null,
            "justify_items": null,
            "left": null,
            "margin": null,
            "max_height": null,
            "max_width": null,
            "min_height": null,
            "min_width": null,
            "object_fit": null,
            "object_position": null,
            "order": null,
            "overflow": null,
            "overflow_x": null,
            "overflow_y": null,
            "padding": null,
            "right": null,
            "top": null,
            "visibility": null,
            "width": null
          }
        },
        "71cba34ac4be425cb8c8708ec92fd153": {
          "model_module": "@jupyter-widgets/controls",
          "model_name": "DescriptionStyleModel",
          "model_module_version": "1.5.0",
          "state": {
            "_model_module": "@jupyter-widgets/controls",
            "_model_module_version": "1.5.0",
            "_model_name": "DescriptionStyleModel",
            "_view_count": null,
            "_view_module": "@jupyter-widgets/base",
            "_view_module_version": "1.2.0",
            "_view_name": "StyleView",
            "description_width": ""
          }
        },
        "2d890c7eede4454d82cf212eccaf7f59": {
          "model_module": "@jupyter-widgets/controls",
          "model_name": "HBoxModel",
          "model_module_version": "1.5.0",
          "state": {
            "_dom_classes": [],
            "_model_module": "@jupyter-widgets/controls",
            "_model_module_version": "1.5.0",
            "_model_name": "HBoxModel",
            "_view_count": null,
            "_view_module": "@jupyter-widgets/controls",
            "_view_module_version": "1.5.0",
            "_view_name": "HBoxView",
            "box_style": "",
            "children": [
              "IPY_MODEL_37bbb96f551c49088becb1b79fc7bb03",
              "IPY_MODEL_d26d4c7724234dc081f1c74e519d6ac5",
              "IPY_MODEL_a37064b61b20464584386abad47f9540"
            ],
            "layout": "IPY_MODEL_96dde971f97e47f8ac5324ec599f0f8b"
          }
        },
        "37bbb96f551c49088becb1b79fc7bb03": {
          "model_module": "@jupyter-widgets/controls",
          "model_name": "HTMLModel",
          "model_module_version": "1.5.0",
          "state": {
            "_dom_classes": [],
            "_model_module": "@jupyter-widgets/controls",
            "_model_module_version": "1.5.0",
            "_model_name": "HTMLModel",
            "_view_count": null,
            "_view_module": "@jupyter-widgets/controls",
            "_view_module_version": "1.5.0",
            "_view_name": "HTMLView",
            "description": "",
            "description_tooltip": null,
            "layout": "IPY_MODEL_88fc552d93654ca5b2c29afd722ca1ed",
            "placeholder": "​",
            "style": "IPY_MODEL_7663157ad528444389398f987262eb47",
            "value": "Map: 100%"
          }
        },
        "d26d4c7724234dc081f1c74e519d6ac5": {
          "model_module": "@jupyter-widgets/controls",
          "model_name": "FloatProgressModel",
          "model_module_version": "1.5.0",
          "state": {
            "_dom_classes": [],
            "_model_module": "@jupyter-widgets/controls",
            "_model_module_version": "1.5.0",
            "_model_name": "FloatProgressModel",
            "_view_count": null,
            "_view_module": "@jupyter-widgets/controls",
            "_view_module_version": "1.5.0",
            "_view_name": "ProgressView",
            "bar_style": "success",
            "description": "",
            "description_tooltip": null,
            "layout": "IPY_MODEL_751f63fa2627499cb14f7d5bec5c8e22",
            "max": 1274,
            "min": 0,
            "orientation": "horizontal",
            "style": "IPY_MODEL_805e8ceea29e40c6ab22305daf16acae",
            "value": 1274
          }
        },
        "a37064b61b20464584386abad47f9540": {
          "model_module": "@jupyter-widgets/controls",
          "model_name": "HTMLModel",
          "model_module_version": "1.5.0",
          "state": {
            "_dom_classes": [],
            "_model_module": "@jupyter-widgets/controls",
            "_model_module_version": "1.5.0",
            "_model_name": "HTMLModel",
            "_view_count": null,
            "_view_module": "@jupyter-widgets/controls",
            "_view_module_version": "1.5.0",
            "_view_name": "HTMLView",
            "description": "",
            "description_tooltip": null,
            "layout": "IPY_MODEL_901e028bfff34b1aa09c3b544221c6b6",
            "placeholder": "​",
            "style": "IPY_MODEL_cd031851a6ec423eb01179d9572cb67c",
            "value": " 1274/1274 [00:00&lt;00:00, 7182.43 examples/s]"
          }
        },
        "96dde971f97e47f8ac5324ec599f0f8b": {
          "model_module": "@jupyter-widgets/base",
          "model_name": "LayoutModel",
          "model_module_version": "1.2.0",
          "state": {
            "_model_module": "@jupyter-widgets/base",
            "_model_module_version": "1.2.0",
            "_model_name": "LayoutModel",
            "_view_count": null,
            "_view_module": "@jupyter-widgets/base",
            "_view_module_version": "1.2.0",
            "_view_name": "LayoutView",
            "align_content": null,
            "align_items": null,
            "align_self": null,
            "border": null,
            "bottom": null,
            "display": null,
            "flex": null,
            "flex_flow": null,
            "grid_area": null,
            "grid_auto_columns": null,
            "grid_auto_flow": null,
            "grid_auto_rows": null,
            "grid_column": null,
            "grid_gap": null,
            "grid_row": null,
            "grid_template_areas": null,
            "grid_template_columns": null,
            "grid_template_rows": null,
            "height": null,
            "justify_content": null,
            "justify_items": null,
            "left": null,
            "margin": null,
            "max_height": null,
            "max_width": null,
            "min_height": null,
            "min_width": null,
            "object_fit": null,
            "object_position": null,
            "order": null,
            "overflow": null,
            "overflow_x": null,
            "overflow_y": null,
            "padding": null,
            "right": null,
            "top": null,
            "visibility": null,
            "width": null
          }
        },
        "88fc552d93654ca5b2c29afd722ca1ed": {
          "model_module": "@jupyter-widgets/base",
          "model_name": "LayoutModel",
          "model_module_version": "1.2.0",
          "state": {
            "_model_module": "@jupyter-widgets/base",
            "_model_module_version": "1.2.0",
            "_model_name": "LayoutModel",
            "_view_count": null,
            "_view_module": "@jupyter-widgets/base",
            "_view_module_version": "1.2.0",
            "_view_name": "LayoutView",
            "align_content": null,
            "align_items": null,
            "align_self": null,
            "border": null,
            "bottom": null,
            "display": null,
            "flex": null,
            "flex_flow": null,
            "grid_area": null,
            "grid_auto_columns": null,
            "grid_auto_flow": null,
            "grid_auto_rows": null,
            "grid_column": null,
            "grid_gap": null,
            "grid_row": null,
            "grid_template_areas": null,
            "grid_template_columns": null,
            "grid_template_rows": null,
            "height": null,
            "justify_content": null,
            "justify_items": null,
            "left": null,
            "margin": null,
            "max_height": null,
            "max_width": null,
            "min_height": null,
            "min_width": null,
            "object_fit": null,
            "object_position": null,
            "order": null,
            "overflow": null,
            "overflow_x": null,
            "overflow_y": null,
            "padding": null,
            "right": null,
            "top": null,
            "visibility": null,
            "width": null
          }
        },
        "7663157ad528444389398f987262eb47": {
          "model_module": "@jupyter-widgets/controls",
          "model_name": "DescriptionStyleModel",
          "model_module_version": "1.5.0",
          "state": {
            "_model_module": "@jupyter-widgets/controls",
            "_model_module_version": "1.5.0",
            "_model_name": "DescriptionStyleModel",
            "_view_count": null,
            "_view_module": "@jupyter-widgets/base",
            "_view_module_version": "1.2.0",
            "_view_name": "StyleView",
            "description_width": ""
          }
        },
        "751f63fa2627499cb14f7d5bec5c8e22": {
          "model_module": "@jupyter-widgets/base",
          "model_name": "LayoutModel",
          "model_module_version": "1.2.0",
          "state": {
            "_model_module": "@jupyter-widgets/base",
            "_model_module_version": "1.2.0",
            "_model_name": "LayoutModel",
            "_view_count": null,
            "_view_module": "@jupyter-widgets/base",
            "_view_module_version": "1.2.0",
            "_view_name": "LayoutView",
            "align_content": null,
            "align_items": null,
            "align_self": null,
            "border": null,
            "bottom": null,
            "display": null,
            "flex": null,
            "flex_flow": null,
            "grid_area": null,
            "grid_auto_columns": null,
            "grid_auto_flow": null,
            "grid_auto_rows": null,
            "grid_column": null,
            "grid_gap": null,
            "grid_row": null,
            "grid_template_areas": null,
            "grid_template_columns": null,
            "grid_template_rows": null,
            "height": null,
            "justify_content": null,
            "justify_items": null,
            "left": null,
            "margin": null,
            "max_height": null,
            "max_width": null,
            "min_height": null,
            "min_width": null,
            "object_fit": null,
            "object_position": null,
            "order": null,
            "overflow": null,
            "overflow_x": null,
            "overflow_y": null,
            "padding": null,
            "right": null,
            "top": null,
            "visibility": null,
            "width": null
          }
        },
        "805e8ceea29e40c6ab22305daf16acae": {
          "model_module": "@jupyter-widgets/controls",
          "model_name": "ProgressStyleModel",
          "model_module_version": "1.5.0",
          "state": {
            "_model_module": "@jupyter-widgets/controls",
            "_model_module_version": "1.5.0",
            "_model_name": "ProgressStyleModel",
            "_view_count": null,
            "_view_module": "@jupyter-widgets/base",
            "_view_module_version": "1.2.0",
            "_view_name": "StyleView",
            "bar_color": null,
            "description_width": ""
          }
        },
        "901e028bfff34b1aa09c3b544221c6b6": {
          "model_module": "@jupyter-widgets/base",
          "model_name": "LayoutModel",
          "model_module_version": "1.2.0",
          "state": {
            "_model_module": "@jupyter-widgets/base",
            "_model_module_version": "1.2.0",
            "_model_name": "LayoutModel",
            "_view_count": null,
            "_view_module": "@jupyter-widgets/base",
            "_view_module_version": "1.2.0",
            "_view_name": "LayoutView",
            "align_content": null,
            "align_items": null,
            "align_self": null,
            "border": null,
            "bottom": null,
            "display": null,
            "flex": null,
            "flex_flow": null,
            "grid_area": null,
            "grid_auto_columns": null,
            "grid_auto_flow": null,
            "grid_auto_rows": null,
            "grid_column": null,
            "grid_gap": null,
            "grid_row": null,
            "grid_template_areas": null,
            "grid_template_columns": null,
            "grid_template_rows": null,
            "height": null,
            "justify_content": null,
            "justify_items": null,
            "left": null,
            "margin": null,
            "max_height": null,
            "max_width": null,
            "min_height": null,
            "min_width": null,
            "object_fit": null,
            "object_position": null,
            "order": null,
            "overflow": null,
            "overflow_x": null,
            "overflow_y": null,
            "padding": null,
            "right": null,
            "top": null,
            "visibility": null,
            "width": null
          }
        },
        "cd031851a6ec423eb01179d9572cb67c": {
          "model_module": "@jupyter-widgets/controls",
          "model_name": "DescriptionStyleModel",
          "model_module_version": "1.5.0",
          "state": {
            "_model_module": "@jupyter-widgets/controls",
            "_model_module_version": "1.5.0",
            "_model_name": "DescriptionStyleModel",
            "_view_count": null,
            "_view_module": "@jupyter-widgets/base",
            "_view_module_version": "1.2.0",
            "_view_name": "StyleView",
            "description_width": ""
          }
        }
      }
    }
  },
  "cells": [
    {
      "cell_type": "markdown",
      "source": [
        "# Model Improvement and Comparison\n",
        "\n",
        "This notebook continues from the `Feasibility & Prototype.ipynb` notebook.\n",
        "Here, we apply class weighting and threshold tuning to improve our DistilBERT model,\n",
        "then train a second model for performance comparison.\n",
        "\n",
        "**note: some results may change due to rerun cells**\n"
      ],
      "metadata": {
        "id": "Y_o2nA8gvoN2"
      }
    },
    {
      "cell_type": "code",
      "source": [
        "import pandas as pd\n",
        "!pip install -q --upgrade transformers"
      ],
      "metadata": {
        "id": "gs9L88zmvuJ6"
      },
      "execution_count": null,
      "outputs": []
    },
    {
      "cell_type": "code",
      "source": [
        "df = pd.read_csv(\"train.csv\", on_bad_lines='skip', quoting=3, encoding='utf-8')\n",
        "df.head(10)"
      ],
      "metadata": {
        "colab": {
          "base_uri": "https://localhost:8080/",
          "height": 432
        },
        "id": "lpz1Vqpbv3A8",
        "outputId": "be6db01a-1df7-416f-bac4-5b06a15646d4"
      },
      "execution_count": null,
      "outputs": [
        {
          "output_type": "execute_result",
          "data": {
            "text/plain": [
              "                                                \"id\"  \\\n",
              "0                                 \"0000997932d777bf\"   \n",
              "1  Why the edits made under my username Hardcore ...   \n",
              "2                                 \"0001b41b1c6bb37e\"   \n",
              "3                                               More   \n",
              "4  I can't make any real suggestions on improveme...   \n",
              "5  There appears to be a backlog on articles for ...   \n",
              "6                                 \"00025465d4725e87\"   \n",
              "7                    Congratulations from me as well   \n",
              "8                                 \"0002bcb3da6cb337\"   \n",
              "9                                 \"00040093b2687caa\"   \n",
              "\n",
              "                                      \"comment_text\"  \\\n",
              "0                                       \"Explanation   \n",
              "1   just closure on some GAs after I voted at New...   \n",
              "2                                                \"\"\"   \n",
              "3                                                NaN   \n",
              "4   or a subsection of \"\"\"\"types of accidents\"\"\"\"...   \n",
              "5                                                  0   \n",
              "6                                                \"\"\"   \n",
              "7                    use the tools well.  · talk \"\"\"   \n",
              "8     \"COCKSUCKER BEFORE YOU PISS AROUND ON MY WORK\"   \n",
              "9  \"alignment on this subject and which are contr...   \n",
              "\n",
              "                                             \"toxic\" \"severe_toxic\" \"obscene\"  \\\n",
              "0                                                NaN            NaN       NaN   \n",
              "1                                                  0              0         0   \n",
              "2                                                NaN            NaN       NaN   \n",
              "3                                                NaN            NaN       NaN   \n",
              "4   if no-one else does first - if you have any p...            NaN       NaN   \n",
              "5                                                  0              0         0   \n",
              "6                                                NaN            NaN       NaN   \n",
              "7                                                  0              0         0   \n",
              "8                                                  1              1         1   \n",
              "9                                                  0              0         0   \n",
              "\n",
              "  \"threat\" \"insult\" \"identity_hate\"  \n",
              "0      NaN      NaN             NaN  \n",
              "1        0        0               0  \n",
              "2      NaN      NaN             NaN  \n",
              "3      NaN      NaN             NaN  \n",
              "4      NaN      NaN             NaN  \n",
              "5        0        0             NaN  \n",
              "6      NaN      NaN             NaN  \n",
              "7        0        0               0  \n",
              "8        0        1               0  \n",
              "9        0        0               0  "
            ],
            "text/html": [
              "\n",
              "  <div id=\"df-5473a05a-f66c-4411-a875-a4b0e509d1ad\" class=\"colab-df-container\">\n",
              "    <div>\n",
              "<style scoped>\n",
              "    .dataframe tbody tr th:only-of-type {\n",
              "        vertical-align: middle;\n",
              "    }\n",
              "\n",
              "    .dataframe tbody tr th {\n",
              "        vertical-align: top;\n",
              "    }\n",
              "\n",
              "    .dataframe thead th {\n",
              "        text-align: right;\n",
              "    }\n",
              "</style>\n",
              "<table border=\"1\" class=\"dataframe\">\n",
              "  <thead>\n",
              "    <tr style=\"text-align: right;\">\n",
              "      <th></th>\n",
              "      <th>\"id\"</th>\n",
              "      <th>\"comment_text\"</th>\n",
              "      <th>\"toxic\"</th>\n",
              "      <th>\"severe_toxic\"</th>\n",
              "      <th>\"obscene\"</th>\n",
              "      <th>\"threat\"</th>\n",
              "      <th>\"insult\"</th>\n",
              "      <th>\"identity_hate\"</th>\n",
              "    </tr>\n",
              "  </thead>\n",
              "  <tbody>\n",
              "    <tr>\n",
              "      <th>0</th>\n",
              "      <td>\"0000997932d777bf\"</td>\n",
              "      <td>\"Explanation</td>\n",
              "      <td>NaN</td>\n",
              "      <td>NaN</td>\n",
              "      <td>NaN</td>\n",
              "      <td>NaN</td>\n",
              "      <td>NaN</td>\n",
              "      <td>NaN</td>\n",
              "    </tr>\n",
              "    <tr>\n",
              "      <th>1</th>\n",
              "      <td>Why the edits made under my username Hardcore ...</td>\n",
              "      <td>just closure on some GAs after I voted at New...</td>\n",
              "      <td>0</td>\n",
              "      <td>0</td>\n",
              "      <td>0</td>\n",
              "      <td>0</td>\n",
              "      <td>0</td>\n",
              "      <td>0</td>\n",
              "    </tr>\n",
              "    <tr>\n",
              "      <th>2</th>\n",
              "      <td>\"0001b41b1c6bb37e\"</td>\n",
              "      <td>\"\"\"</td>\n",
              "      <td>NaN</td>\n",
              "      <td>NaN</td>\n",
              "      <td>NaN</td>\n",
              "      <td>NaN</td>\n",
              "      <td>NaN</td>\n",
              "      <td>NaN</td>\n",
              "    </tr>\n",
              "    <tr>\n",
              "      <th>3</th>\n",
              "      <td>More</td>\n",
              "      <td>NaN</td>\n",
              "      <td>NaN</td>\n",
              "      <td>NaN</td>\n",
              "      <td>NaN</td>\n",
              "      <td>NaN</td>\n",
              "      <td>NaN</td>\n",
              "      <td>NaN</td>\n",
              "    </tr>\n",
              "    <tr>\n",
              "      <th>4</th>\n",
              "      <td>I can't make any real suggestions on improveme...</td>\n",
              "      <td>or a subsection of \"\"\"\"types of accidents\"\"\"\"...</td>\n",
              "      <td>if no-one else does first - if you have any p...</td>\n",
              "      <td>NaN</td>\n",
              "      <td>NaN</td>\n",
              "      <td>NaN</td>\n",
              "      <td>NaN</td>\n",
              "      <td>NaN</td>\n",
              "    </tr>\n",
              "    <tr>\n",
              "      <th>5</th>\n",
              "      <td>There appears to be a backlog on articles for ...</td>\n",
              "      <td>0</td>\n",
              "      <td>0</td>\n",
              "      <td>0</td>\n",
              "      <td>0</td>\n",
              "      <td>0</td>\n",
              "      <td>0</td>\n",
              "      <td>NaN</td>\n",
              "    </tr>\n",
              "    <tr>\n",
              "      <th>6</th>\n",
              "      <td>\"00025465d4725e87\"</td>\n",
              "      <td>\"\"\"</td>\n",
              "      <td>NaN</td>\n",
              "      <td>NaN</td>\n",
              "      <td>NaN</td>\n",
              "      <td>NaN</td>\n",
              "      <td>NaN</td>\n",
              "      <td>NaN</td>\n",
              "    </tr>\n",
              "    <tr>\n",
              "      <th>7</th>\n",
              "      <td>Congratulations from me as well</td>\n",
              "      <td>use the tools well.  · talk \"\"\"</td>\n",
              "      <td>0</td>\n",
              "      <td>0</td>\n",
              "      <td>0</td>\n",
              "      <td>0</td>\n",
              "      <td>0</td>\n",
              "      <td>0</td>\n",
              "    </tr>\n",
              "    <tr>\n",
              "      <th>8</th>\n",
              "      <td>\"0002bcb3da6cb337\"</td>\n",
              "      <td>\"COCKSUCKER BEFORE YOU PISS AROUND ON MY WORK\"</td>\n",
              "      <td>1</td>\n",
              "      <td>1</td>\n",
              "      <td>1</td>\n",
              "      <td>0</td>\n",
              "      <td>1</td>\n",
              "      <td>0</td>\n",
              "    </tr>\n",
              "    <tr>\n",
              "      <th>9</th>\n",
              "      <td>\"00040093b2687caa\"</td>\n",
              "      <td>\"alignment on this subject and which are contr...</td>\n",
              "      <td>0</td>\n",
              "      <td>0</td>\n",
              "      <td>0</td>\n",
              "      <td>0</td>\n",
              "      <td>0</td>\n",
              "      <td>0</td>\n",
              "    </tr>\n",
              "  </tbody>\n",
              "</table>\n",
              "</div>\n",
              "    <div class=\"colab-df-buttons\">\n",
              "\n",
              "  <div class=\"colab-df-container\">\n",
              "    <button class=\"colab-df-convert\" onclick=\"convertToInteractive('df-5473a05a-f66c-4411-a875-a4b0e509d1ad')\"\n",
              "            title=\"Convert this dataframe to an interactive table.\"\n",
              "            style=\"display:none;\">\n",
              "\n",
              "  <svg xmlns=\"http://www.w3.org/2000/svg\" height=\"24px\" viewBox=\"0 -960 960 960\">\n",
              "    <path d=\"M120-120v-720h720v720H120Zm60-500h600v-160H180v160Zm220 220h160v-160H400v160Zm0 220h160v-160H400v160ZM180-400h160v-160H180v160Zm440 0h160v-160H620v160ZM180-180h160v-160H180v160Zm440 0h160v-160H620v160Z\"/>\n",
              "  </svg>\n",
              "    </button>\n",
              "\n",
              "  <style>\n",
              "    .colab-df-container {\n",
              "      display:flex;\n",
              "      gap: 12px;\n",
              "    }\n",
              "\n",
              "    .colab-df-convert {\n",
              "      background-color: #E8F0FE;\n",
              "      border: none;\n",
              "      border-radius: 50%;\n",
              "      cursor: pointer;\n",
              "      display: none;\n",
              "      fill: #1967D2;\n",
              "      height: 32px;\n",
              "      padding: 0 0 0 0;\n",
              "      width: 32px;\n",
              "    }\n",
              "\n",
              "    .colab-df-convert:hover {\n",
              "      background-color: #E2EBFA;\n",
              "      box-shadow: 0px 1px 2px rgba(60, 64, 67, 0.3), 0px 1px 3px 1px rgba(60, 64, 67, 0.15);\n",
              "      fill: #174EA6;\n",
              "    }\n",
              "\n",
              "    .colab-df-buttons div {\n",
              "      margin-bottom: 4px;\n",
              "    }\n",
              "\n",
              "    [theme=dark] .colab-df-convert {\n",
              "      background-color: #3B4455;\n",
              "      fill: #D2E3FC;\n",
              "    }\n",
              "\n",
              "    [theme=dark] .colab-df-convert:hover {\n",
              "      background-color: #434B5C;\n",
              "      box-shadow: 0px 1px 3px 1px rgba(0, 0, 0, 0.15);\n",
              "      filter: drop-shadow(0px 1px 2px rgba(0, 0, 0, 0.3));\n",
              "      fill: #FFFFFF;\n",
              "    }\n",
              "  </style>\n",
              "\n",
              "    <script>\n",
              "      const buttonEl =\n",
              "        document.querySelector('#df-5473a05a-f66c-4411-a875-a4b0e509d1ad button.colab-df-convert');\n",
              "      buttonEl.style.display =\n",
              "        google.colab.kernel.accessAllowed ? 'block' : 'none';\n",
              "\n",
              "      async function convertToInteractive(key) {\n",
              "        const element = document.querySelector('#df-5473a05a-f66c-4411-a875-a4b0e509d1ad');\n",
              "        const dataTable =\n",
              "          await google.colab.kernel.invokeFunction('convertToInteractive',\n",
              "                                                    [key], {});\n",
              "        if (!dataTable) return;\n",
              "\n",
              "        const docLinkHtml = 'Like what you see? Visit the ' +\n",
              "          '<a target=\"_blank\" href=https://colab.research.google.com/notebooks/data_table.ipynb>data table notebook</a>'\n",
              "          + ' to learn more about interactive tables.';\n",
              "        element.innerHTML = '';\n",
              "        dataTable['output_type'] = 'display_data';\n",
              "        await google.colab.output.renderOutput(dataTable, element);\n",
              "        const docLink = document.createElement('div');\n",
              "        docLink.innerHTML = docLinkHtml;\n",
              "        element.appendChild(docLink);\n",
              "      }\n",
              "    </script>\n",
              "  </div>\n",
              "\n",
              "\n",
              "    <div id=\"df-78e1090e-9b78-4ebd-b62a-96473ccc957d\">\n",
              "      <button class=\"colab-df-quickchart\" onclick=\"quickchart('df-78e1090e-9b78-4ebd-b62a-96473ccc957d')\"\n",
              "                title=\"Suggest charts\"\n",
              "                style=\"display:none;\">\n",
              "\n",
              "<svg xmlns=\"http://www.w3.org/2000/svg\" height=\"24px\"viewBox=\"0 0 24 24\"\n",
              "     width=\"24px\">\n",
              "    <g>\n",
              "        <path d=\"M19 3H5c-1.1 0-2 .9-2 2v14c0 1.1.9 2 2 2h14c1.1 0 2-.9 2-2V5c0-1.1-.9-2-2-2zM9 17H7v-7h2v7zm4 0h-2V7h2v10zm4 0h-2v-4h2v4z\"/>\n",
              "    </g>\n",
              "</svg>\n",
              "      </button>\n",
              "\n",
              "<style>\n",
              "  .colab-df-quickchart {\n",
              "      --bg-color: #E8F0FE;\n",
              "      --fill-color: #1967D2;\n",
              "      --hover-bg-color: #E2EBFA;\n",
              "      --hover-fill-color: #174EA6;\n",
              "      --disabled-fill-color: #AAA;\n",
              "      --disabled-bg-color: #DDD;\n",
              "  }\n",
              "\n",
              "  [theme=dark] .colab-df-quickchart {\n",
              "      --bg-color: #3B4455;\n",
              "      --fill-color: #D2E3FC;\n",
              "      --hover-bg-color: #434B5C;\n",
              "      --hover-fill-color: #FFFFFF;\n",
              "      --disabled-bg-color: #3B4455;\n",
              "      --disabled-fill-color: #666;\n",
              "  }\n",
              "\n",
              "  .colab-df-quickchart {\n",
              "    background-color: var(--bg-color);\n",
              "    border: none;\n",
              "    border-radius: 50%;\n",
              "    cursor: pointer;\n",
              "    display: none;\n",
              "    fill: var(--fill-color);\n",
              "    height: 32px;\n",
              "    padding: 0;\n",
              "    width: 32px;\n",
              "  }\n",
              "\n",
              "  .colab-df-quickchart:hover {\n",
              "    background-color: var(--hover-bg-color);\n",
              "    box-shadow: 0 1px 2px rgba(60, 64, 67, 0.3), 0 1px 3px 1px rgba(60, 64, 67, 0.15);\n",
              "    fill: var(--button-hover-fill-color);\n",
              "  }\n",
              "\n",
              "  .colab-df-quickchart-complete:disabled,\n",
              "  .colab-df-quickchart-complete:disabled:hover {\n",
              "    background-color: var(--disabled-bg-color);\n",
              "    fill: var(--disabled-fill-color);\n",
              "    box-shadow: none;\n",
              "  }\n",
              "\n",
              "  .colab-df-spinner {\n",
              "    border: 2px solid var(--fill-color);\n",
              "    border-color: transparent;\n",
              "    border-bottom-color: var(--fill-color);\n",
              "    animation:\n",
              "      spin 1s steps(1) infinite;\n",
              "  }\n",
              "\n",
              "  @keyframes spin {\n",
              "    0% {\n",
              "      border-color: transparent;\n",
              "      border-bottom-color: var(--fill-color);\n",
              "      border-left-color: var(--fill-color);\n",
              "    }\n",
              "    20% {\n",
              "      border-color: transparent;\n",
              "      border-left-color: var(--fill-color);\n",
              "      border-top-color: var(--fill-color);\n",
              "    }\n",
              "    30% {\n",
              "      border-color: transparent;\n",
              "      border-left-color: var(--fill-color);\n",
              "      border-top-color: var(--fill-color);\n",
              "      border-right-color: var(--fill-color);\n",
              "    }\n",
              "    40% {\n",
              "      border-color: transparent;\n",
              "      border-right-color: var(--fill-color);\n",
              "      border-top-color: var(--fill-color);\n",
              "    }\n",
              "    60% {\n",
              "      border-color: transparent;\n",
              "      border-right-color: var(--fill-color);\n",
              "    }\n",
              "    80% {\n",
              "      border-color: transparent;\n",
              "      border-right-color: var(--fill-color);\n",
              "      border-bottom-color: var(--fill-color);\n",
              "    }\n",
              "    90% {\n",
              "      border-color: transparent;\n",
              "      border-bottom-color: var(--fill-color);\n",
              "    }\n",
              "  }\n",
              "</style>\n",
              "\n",
              "      <script>\n",
              "        async function quickchart(key) {\n",
              "          const quickchartButtonEl =\n",
              "            document.querySelector('#' + key + ' button');\n",
              "          quickchartButtonEl.disabled = true;  // To prevent multiple clicks.\n",
              "          quickchartButtonEl.classList.add('colab-df-spinner');\n",
              "          try {\n",
              "            const charts = await google.colab.kernel.invokeFunction(\n",
              "                'suggestCharts', [key], {});\n",
              "          } catch (error) {\n",
              "            console.error('Error during call to suggestCharts:', error);\n",
              "          }\n",
              "          quickchartButtonEl.classList.remove('colab-df-spinner');\n",
              "          quickchartButtonEl.classList.add('colab-df-quickchart-complete');\n",
              "        }\n",
              "        (() => {\n",
              "          let quickchartButtonEl =\n",
              "            document.querySelector('#df-78e1090e-9b78-4ebd-b62a-96473ccc957d button');\n",
              "          quickchartButtonEl.style.display =\n",
              "            google.colab.kernel.accessAllowed ? 'block' : 'none';\n",
              "        })();\n",
              "      </script>\n",
              "    </div>\n",
              "\n",
              "    </div>\n",
              "  </div>\n"
            ],
            "application/vnd.google.colaboratory.intrinsic+json": {
              "type": "dataframe",
              "variable_name": "df",
              "summary": "{\n  \"name\": \"df\",\n  \"rows\": 46304,\n  \"fields\": [\n    {\n      \"column\": \"\\\"id\\\"\",\n      \"properties\": {\n        \"dtype\": \"string\",\n        \"num_unique_values\": 40280,\n        \"samples\": [\n          \"Hello you took away my edit of Victor Cruz being #80 and you said i had no evidance. well\",\n          \"````warwick da beardie\\\"\",\n          \"\\\"0c68ef47c363496f\\\"\"\n        ],\n        \"semantic_type\": \"\",\n        \"description\": \"\"\n      }\n    },\n    {\n      \"column\": \"\\\"comment_text\\\"\",\n      \"properties\": {\n        \"dtype\": \"category\",\n        \"num_unique_values\": 19830,\n        \"samples\": [\n          \"\\\"I bet \",\n          \" talk\",\n          \" I've rectified it and left a note on the IP's talk.   \"\n        ],\n        \"semantic_type\": \"\",\n        \"description\": \"\"\n      }\n    },\n    {\n      \"column\": \"\\\"toxic\\\"\",\n      \"properties\": {\n        \"dtype\": \"category\",\n        \"num_unique_values\": 5485,\n        \"samples\": [\n          \" I will wait until tomorrow morning before I reveal why it is that you blocked me for implying that Carbonite was a troll\",\n          \" winning less votes than notable to actually be mentioned). ) \",\n          \" (Wikipedia_talk:WikiProject_Classical_music/Archive_5#Need_help.21Wikipedia_talk:WikiProject_Music/Archive_3#I_could_use_some_helpWikipedia_talk:WikiProject_Music/Archive_2#Raulbot.2C_and_the_music_list) So I really had given up trying to interest others.  \"\n        ],\n        \"semantic_type\": \"\",\n        \"description\": \"\"\n      }\n    },\n    {\n      \"column\": \"\\\"severe_toxic\\\"\",\n      \"properties\": {\n        \"dtype\": \"category\",\n        \"num_unique_values\": 3156,\n        \"samples\": [\n          \" fine\",\n          \" you stood steadfast against an edit warrior and his tiresome copyvio spamming\",\n          \" not words per se. So is the \\\"\\\"\\\"\\\"Allah\\\"\\\"\\\"\\\" article the appropriate place to provide a discussion of the Islamic concept of God? My initial thought would be yes.\"\n        ],\n        \"semantic_type\": \"\",\n        \"description\": \"\"\n      }\n    },\n    {\n      \"column\": \"\\\"obscene\\\"\",\n      \"properties\": {\n        \"dtype\": \"category\",\n        \"num_unique_values\": 1873,\n        \"samples\": [\n          \" and with all respect to Ian McShane\",\n          \" so that the argument of \\\"\\\"\\\"\\\"original research\\\"\\\"\\\"\\\" can by no means be applicable. With kind regards\",\n          \" Issue Supplement S2\"\n        ],\n        \"semantic_type\": \"\",\n        \"description\": \"\"\n      }\n    },\n    {\n      \"column\": \"\\\"threat\\\"\",\n      \"properties\": {\n        \"dtype\": \"category\",\n        \"num_unique_values\": 1125,\n        \"samples\": [\n          \" I feel that the best way to go forward is to preserve the highly detailed content (most of which is only relevant to medical professionals) on specific pages\",\n          \" as is the case here. If it turns out that any or all of these riders don't ride for Team Sky in 2010 then the Wikipedia article won't have been \\\"\\\"\\\"\\\"guilty of having recorded an error\\\"\\\"\\\"\\\" because it was an entirely accurate description of the situation at this time based upon the information available.   \",\n          \" like we are trying to do with NAFTA.\"\n        ],\n        \"semantic_type\": \"\",\n        \"description\": \"\"\n      }\n    },\n    {\n      \"column\": \"\\\"insult\\\"\",\n      \"properties\": {\n        \"dtype\": \"category\",\n        \"num_unique_values\": 570,\n        \"samples\": [\n          \" 2006)\",\n          \" where people all across the globe would get to know India with its real beauty and true colors. India Magical Trip being their dream child has been carefully nurtured and given the shape and status that it is having today.\",\n          \" I'm nitpicking. Here's the passage so you can judge for yourself:\"\n        ],\n        \"semantic_type\": \"\",\n        \"description\": \"\"\n      }\n    },\n    {\n      \"column\": \"\\\"identity_hate\\\"\",\n      \"properties\": {\n        \"dtype\": \"category\",\n        \"num_unique_values\": 246,\n        \"samples\": [\n          \" nobody is going to care that he visited an aircraft carrier\",\n          \" until they are called by former Witzemans via dreams. Associates of the Witzeman are known to be a certain Babe Cool or the much lesser known Witzewoman.\",\n          \" entered the house without consent and then the locks were changed. Certain of these individuals were also observed removing numerous items from the premises.\"\n        ],\n        \"semantic_type\": \"\",\n        \"description\": \"\"\n      }\n    }\n  ]\n}"
            }
          },
          "metadata": {},
          "execution_count": 2
        }
      ]
    },
    {
      "cell_type": "code",
      "source": [
        "df.columns = df.columns.str.replace('\"','').str.strip()\n"
      ],
      "metadata": {
        "id": "EA8j-YxVv65F"
      },
      "execution_count": null,
      "outputs": []
    },
    {
      "cell_type": "code",
      "source": [
        "label_cols = ['toxic', 'severe_toxic', 'obscene', 'threat', 'insult', 'identity_hate']\n",
        "\n",
        "# Convert columns to numeric (errors='coerce' turns bad values into NaN)\n",
        "for col in label_cols:\n",
        "    df[col] = pd.to_numeric(df[col], errors='coerce')\n",
        "\n",
        "df = df.dropna(subset=label_cols).reset_index(drop=True)"
      ],
      "metadata": {
        "id": "r4jsLGQzwARa"
      },
      "execution_count": null,
      "outputs": []
    },
    {
      "cell_type": "code",
      "source": [
        "# Clean column names\n",
        "df.columns = df.columns.str.replace('\"', '').str.strip()\n",
        "\n",
        "# Drop the ID column if it's no longer needed\n",
        "df = df.drop(columns=['id'])\n"
      ],
      "metadata": {
        "id": "PYPWLz5ywJoN"
      },
      "execution_count": null,
      "outputs": []
    },
    {
      "cell_type": "code",
      "source": [
        "print(df[label_cols].sum())"
      ],
      "metadata": {
        "colab": {
          "base_uri": "https://localhost:8080/"
        },
        "id": "i2P7JTjIwKXc",
        "outputId": "83683fb1-911f-4cc5-a988-8ffbaf8d8e06"
      },
      "execution_count": null,
      "outputs": [
        {
          "output_type": "stream",
          "name": "stdout",
          "text": [
            "toxic            776.0\n",
            "severe_toxic      93.0\n",
            "obscene          412.0\n",
            "threat            23.0\n",
            "insult           381.0\n",
            "identity_hate     68.0\n",
            "dtype: float64\n"
          ]
        }
      ]
    },
    {
      "cell_type": "code",
      "source": [
        "print(df.shape)\n",
        "print(df.isnull().sum())\n",
        "print(df[['toxic', 'severe_toxic', 'obscene', 'threat', 'insult', 'identity_hate']].sum())\n"
      ],
      "metadata": {
        "colab": {
          "base_uri": "https://localhost:8080/"
        },
        "id": "QMKBIkXpwOIE",
        "outputId": "a3a2d4a2-54d3-4c7c-822e-b6c4687a367c"
      },
      "execution_count": null,
      "outputs": [
        {
          "output_type": "stream",
          "name": "stdout",
          "text": [
            "(6366, 7)\n",
            "comment_text     0\n",
            "toxic            0\n",
            "severe_toxic     0\n",
            "obscene          0\n",
            "threat           0\n",
            "insult           0\n",
            "identity_hate    0\n",
            "dtype: int64\n",
            "toxic            776.0\n",
            "severe_toxic      93.0\n",
            "obscene          412.0\n",
            "threat            23.0\n",
            "insult           381.0\n",
            "identity_hate     68.0\n",
            "dtype: float64\n"
          ]
        }
      ]
    },
    {
      "cell_type": "markdown",
      "source": [
        "## **Prepare for Modeling**\n",
        "\n",
        "We re-define the label columns, create input features and targets, and split the data for training and validation.\n"
      ],
      "metadata": {
        "id": "roQfKJimxpEU"
      }
    },
    {
      "cell_type": "code",
      "source": [
        "from sklearn.model_selection import train_test_split\n",
        "\n",
        "# Define labels\n",
        "label_cols = ['toxic', 'severe_toxic', 'obscene', 'threat', 'insult', 'identity_hate']\n",
        "X = df['comment_text'].tolist()\n",
        "y = df[label_cols].values\n",
        "\n",
        "# Train/Validation split\n",
        "X_train, X_val, y_train, y_val = train_test_split(X, y, test_size=0.2, random_state=42)\n"
      ],
      "metadata": {
        "id": "qXuFQ807xs8K"
      },
      "execution_count": null,
      "outputs": []
    },
    {
      "cell_type": "markdown",
      "source": [
        "### **Tokenization and Dataset Preparation**\n",
        "\n",
        "We tokenize the text data using the DistilBERT tokenizer and create custom PyTorch Datasets.\n"
      ],
      "metadata": {
        "id": "of9vhJigx0Ee"
      }
    },
    {
      "cell_type": "code",
      "source": [
        "from transformers import AutoTokenizer\n",
        "import torch\n",
        "\n",
        "# Load DistilBERT tokenizer\n",
        "tokenizer = AutoTokenizer.from_pretrained(\"distilbert-base-uncased\")\n",
        "\n",
        "# Max token length\n",
        "MAX_LEN = 128\n",
        "\n",
        "# Function to tokenize a list of texts\n",
        "def tokenize(texts):\n",
        "    return tokenizer(\n",
        "        texts,\n",
        "        padding=\"max_length\",\n",
        "        truncation=True,\n",
        "        max_length=MAX_LEN,\n",
        "        return_tensors=\"pt\"\n",
        "    )\n",
        "\n",
        "# Custom PyTorch Dataset\n",
        "class ToxicCommentDataset(torch.utils.data.Dataset):\n",
        "    def __init__(self, texts, labels):\n",
        "        self.encodings = tokenize(texts)\n",
        "        self.labels = torch.tensor(labels, dtype=torch.float)\n",
        "\n",
        "    def __len__(self):\n",
        "        return len(self.labels)\n",
        "\n",
        "    def __getitem__(self, idx):\n",
        "        item = {key: val[idx] for key, val in self.encodings.items()}\n",
        "        item[\"labels\"] = self.labels[idx]\n",
        "        return item\n",
        "\n",
        "# Create datasets\n",
        "train_dataset = ToxicCommentDataset(X_train, y_train)\n",
        "val_dataset = ToxicCommentDataset(X_val, y_val)\n"
      ],
      "metadata": {
        "id": "SuenWHqxx7FF"
      },
      "execution_count": null,
      "outputs": []
    },
    {
      "cell_type": "markdown",
      "source": [
        "##  **Apply Class Weights**\n",
        "\n",
        "To handle class imbalance, we compute inverse label frequencies and pass them as `pos_weight` to the loss function.\n"
      ],
      "metadata": {
        "id": "Hq_dJmr5y2ta"
      }
    },
    {
      "cell_type": "code",
      "source": [
        "import numpy as np\n",
        "import torch\n",
        "\n",
        "# Convert y_train to a NumPy array if it's not already\n",
        "y_train_np = np.array(y_train)\n",
        "\n",
        "# Calculate the frequency of each label\n",
        "label_freq = y_train_np.sum(axis=0)\n",
        "\n",
        "# Calculate pos_weight = (# negative examples) / (# positive examples)\n",
        "# This is for each label individually\n",
        "num_samples = len(y_train)\n",
        "pos_weights = (num_samples - label_freq) / label_freq\n",
        "pos_weights = torch.tensor(pos_weights, dtype=torch.float)\n",
        "\n",
        "print(\"Computed pos_weight per label:\", pos_weights)\n"
      ],
      "metadata": {
        "colab": {
          "base_uri": "https://localhost:8080/"
        },
        "id": "I_4vJ5I1y8fs",
        "outputId": "fad4851b-94c0-45b3-fab4-22c5a3373cef"
      },
      "execution_count": null,
      "outputs": [
        {
          "output_type": "stream",
          "name": "stdout",
          "text": [
            "Computed pos_weight per label: tensor([  7.1734,  65.1299,  14.3373, 267.0000,  15.9169,  95.0755])\n"
          ]
        }
      ]
    },
    {
      "cell_type": "code",
      "source": [
        "from transformers import Trainer\n",
        "from torch.nn import BCEWithLogitsLoss\n",
        "\n",
        "class WeightedLossTrainer(Trainer):\n",
        "    def compute_loss(self, model, inputs, return_outputs=False, **kwargs):\n",
        "        labels = inputs.pop(\"labels\")\n",
        "        outputs = model(**inputs)\n",
        "        logits = outputs.logits\n",
        "\n",
        "        # Apply custom loss with pos_weight\n",
        "        loss_fct = BCEWithLogitsLoss(pos_weight=pos_weights.to(logits.device))\n",
        "        loss = loss_fct(logits, labels)\n",
        "\n",
        "        return (loss, outputs) if return_outputs else loss\n"
      ],
      "metadata": {
        "id": "mVwgunuRzGFr"
      },
      "execution_count": null,
      "outputs": []
    },
    {
      "cell_type": "code",
      "source": [
        "from transformers import AutoModelForSequenceClassification\n",
        "\n",
        "# Define the model\n",
        "model = AutoModelForSequenceClassification.from_pretrained(\n",
        "    \"distilbert-base-uncased\",\n",
        "    num_labels=len(label_cols),\n",
        "    problem_type=\"multi_label_classification\"\n",
        ")\n"
      ],
      "metadata": {
        "colab": {
          "base_uri": "https://localhost:8080/"
        },
        "id": "mq8Vh7B-zLb_",
        "outputId": "343edf52-e851-48e0-b658-76d4b30fd570"
      },
      "execution_count": null,
      "outputs": [
        {
          "output_type": "stream",
          "name": "stderr",
          "text": [
            "Some weights of DistilBertForSequenceClassification were not initialized from the model checkpoint at distilbert-base-uncased and are newly initialized: ['classifier.bias', 'classifier.weight', 'pre_classifier.bias', 'pre_classifier.weight']\n",
            "You should probably TRAIN this model on a down-stream task to be able to use it for predictions and inference.\n"
          ]
        }
      ]
    },
    {
      "cell_type": "code",
      "source": [
        "import transformers\n",
        "print(transformers.__version__)"
      ],
      "metadata": {
        "colab": {
          "base_uri": "https://localhost:8080/"
        },
        "id": "1cDfSB8-020Z",
        "outputId": "320e2ed6-0009-46c6-a06c-66123c67f77b"
      },
      "execution_count": null,
      "outputs": [
        {
          "output_type": "stream",
          "name": "stdout",
          "text": [
            "4.55.0\n"
          ]
        }
      ]
    },
    {
      "cell_type": "code",
      "source": [
        "import os\n",
        "os.environ[\"WANDB_DISABLED\"] = \"true\"\n",
        "\n",
        "import torch\n",
        "print(torch.cuda.is_available())\n",
        "print(torch.cuda.get_device_name(0))\n"
      ],
      "metadata": {
        "colab": {
          "base_uri": "https://localhost:8080/"
        },
        "id": "fAcjz6Ax0L3z",
        "outputId": "6d073d99-c08f-4cfc-8586-71f9d46e82f8"
      },
      "execution_count": null,
      "outputs": [
        {
          "output_type": "stream",
          "name": "stdout",
          "text": [
            "True\n",
            "Tesla T4\n"
          ]
        }
      ]
    },
    {
      "cell_type": "code",
      "source": [
        "training_args = TrainingArguments(\n",
        "    output_dir=\"./results\",\n",
        "    num_train_epochs=1,\n",
        "    per_device_train_batch_size=8,\n",
        "    per_device_eval_batch_size=8,\n",
        "    eval_strategy=\"epoch\",\n",
        "    save_strategy=\"no\",\n",
        "    logging_dir=\"./logs\",\n",
        "    logging_steps=1\n",
        ")\n",
        "trainer = WeightedLossTrainer(\n",
        "    model=model,\n",
        "    args=training_args,\n",
        "    train_dataset=train_dataset,\n",
        "    eval_dataset=val_dataset\n",
        ")\n"
      ],
      "metadata": {
        "colab": {
          "base_uri": "https://localhost:8080/"
        },
        "id": "rTT8dRNl2AyG",
        "outputId": "ed4ee855-8a2d-450c-d684-72b292c89949"
      },
      "execution_count": null,
      "outputs": [
        {
          "output_type": "stream",
          "name": "stderr",
          "text": [
            "Using the `WANDB_DISABLED` environment variable is deprecated and will be removed in v5. Use the --report_to flag to control the integrations used for logging result (for instance --report_to none).\n"
          ]
        }
      ]
    },
    {
      "cell_type": "code",
      "source": [
        "trainer.train()"
      ],
      "metadata": {
        "colab": {
          "base_uri": "https://localhost:8080/",
          "height": 141
        },
        "id": "H1X7VprS2S-x",
        "outputId": "25181afa-e337-43a8-b6fa-97dd9d841d24"
      },
      "execution_count": null,
      "outputs": [
        {
          "output_type": "display_data",
          "data": {
            "text/plain": [
              "<IPython.core.display.HTML object>"
            ],
            "text/html": [
              "\n",
              "    <div>\n",
              "      \n",
              "      <progress value='637' max='637' style='width:300px; height:20px; vertical-align: middle;'></progress>\n",
              "      [637/637 01:04, Epoch 1/1]\n",
              "    </div>\n",
              "    <table border=\"1\" class=\"dataframe\">\n",
              "  <thead>\n",
              " <tr style=\"text-align: left;\">\n",
              "      <th>Epoch</th>\n",
              "      <th>Training Loss</th>\n",
              "      <th>Validation Loss</th>\n",
              "    </tr>\n",
              "  </thead>\n",
              "  <tbody>\n",
              "    <tr>\n",
              "      <td>1</td>\n",
              "      <td>0.059200</td>\n",
              "      <td>0.970462</td>\n",
              "    </tr>\n",
              "  </tbody>\n",
              "</table><p>"
            ]
          },
          "metadata": {}
        },
        {
          "output_type": "execute_result",
          "data": {
            "text/plain": [
              "TrainOutput(global_step=637, training_loss=1.21378203124112, metrics={'train_runtime': 64.2314, 'train_samples_per_second': 79.276, 'train_steps_per_second': 9.917, 'total_flos': 168643027666944.0, 'train_loss': 1.21378203124112, 'epoch': 1.0})"
            ]
          },
          "metadata": {},
          "execution_count": 102
        }
      ]
    },
    {
      "cell_type": "code",
      "source": [
        "\n",
        "\n",
        "import torch\n",
        "import numpy as np\n",
        "from sklearn.metrics import classification_report\n",
        "\n",
        "# Get model predictions\n",
        "predictions = trainer.predict(val_dataset)\n",
        "logits = predictions.predictions\n",
        "\n",
        "# Apply sigmoid to convert logits to probabilities\n",
        "probs = torch.sigmoid(torch.tensor(logits)).numpy()\n",
        "\n",
        "# Convert probabilities to binary predictions (threshold = 0.5)\n",
        "y_pred = (probs >= 0.5).astype(int)\n",
        "\n",
        "# Print classification report\n",
        "label_names = ['toxic', 'severe_toxic', 'obscene', 'threat', 'insult', 'identity_hate']\n",
        "print(classification_report(y_val, y_pred, target_names=label_names, zero_division=0))\n"
      ],
      "metadata": {
        "colab": {
          "base_uri": "https://localhost:8080/",
          "height": 260
        },
        "id": "8PNpd0sb4t_i",
        "outputId": "16a3f652-141e-474c-d9c4-f4d1b7a7c936"
      },
      "execution_count": null,
      "outputs": [
        {
          "output_type": "display_data",
          "data": {
            "text/plain": [
              "<IPython.core.display.HTML object>"
            ],
            "text/html": []
          },
          "metadata": {}
        },
        {
          "output_type": "stream",
          "name": "stdout",
          "text": [
            "               precision    recall  f1-score   support\n",
            "\n",
            "        toxic       0.72      0.76      0.74       153\n",
            " severe_toxic       0.23      0.94      0.37        16\n",
            "      obscene       0.61      0.89      0.72        80\n",
            "       threat       0.00      0.00      0.00         4\n",
            "       insult       0.61      0.85      0.71        80\n",
            "identity_hate       0.15      0.33      0.21        15\n",
            "\n",
            "    micro avg       0.56      0.79      0.66       348\n",
            "    macro avg       0.38      0.63      0.46       348\n",
            " weighted avg       0.61      0.79      0.68       348\n",
            "  samples avg       0.06      0.09      0.07       348\n",
            "\n"
          ]
        }
      ]
    },
    {
      "cell_type": "markdown",
      "source": [
        "This baseline DistilBERT model achieves an average F1-score of ~0.52 (macro) with the highest performance of 81, performing especially well on high-frequency classes like toxic, obscene, and insult, but struggling with rare classes such as threat and identity_hate"
      ],
      "metadata": {
        "id": "w74-9oih5dxU"
      }
    },
    {
      "cell_type": "markdown",
      "source": [
        "## **Compute optimal thresholds (simple sweep)**\n",
        "\n"
      ],
      "metadata": {
        "id": "CtosX_6R5042"
      }
    },
    {
      "cell_type": "code",
      "source": [
        "import numpy as np\n",
        "from sklearn.metrics import f1_score\n",
        "\n",
        "# Generate predicted probabilities again\n",
        "logits = trainer.predict(val_dataset).predictions\n",
        "probs = torch.sigmoid(torch.tensor(logits)).numpy()\n",
        "\n",
        "# Store best thresholds\n",
        "best_thresholds = []\n",
        "\n",
        "for i in range(probs.shape[1]):\n",
        "    f1_scores = []\n",
        "    thresholds = np.arange(0.1, 0.91, 0.05)\n",
        "    for t in thresholds:\n",
        "        y_pred_t = (probs[:, i] >= t).astype(int)\n",
        "        f1 = f1_score(y_val[:, i], y_pred_t, zero_division=0)\n",
        "        f1_scores.append(f1)\n",
        "    best_t = thresholds[np.argmax(f1_scores)]\n",
        "    best_thresholds.append(best_t)\n",
        "    print(f\"{label_names[i]} best threshold: {best_t:.2f}, F1: {max(f1_scores):.4f}\")\n"
      ],
      "metadata": {
        "colab": {
          "base_uri": "https://localhost:8080/",
          "height": 121
        },
        "id": "55GXHGxm51h2",
        "outputId": "3f68908c-3f1d-47c9-e04c-934058af0066"
      },
      "execution_count": null,
      "outputs": [
        {
          "output_type": "display_data",
          "data": {
            "text/plain": [
              "<IPython.core.display.HTML object>"
            ],
            "text/html": []
          },
          "metadata": {}
        },
        {
          "output_type": "stream",
          "name": "stdout",
          "text": [
            "toxic best threshold: 0.65, F1: 0.7525\n",
            "severe_toxic best threshold: 0.85, F1: 0.4167\n",
            "obscene best threshold: 0.90, F1: 0.8354\n",
            "threat best threshold: 0.25, F1: 0.2353\n",
            "insult best threshold: 0.70, F1: 0.7399\n",
            "identity_hate best threshold: 0.60, F1: 0.2667\n"
          ]
        }
      ]
    },
    {
      "cell_type": "code",
      "source": [
        "# Apply custom thresholds\n",
        "y_pred_best = np.zeros_like(probs)\n",
        "for i in range(probs.shape[1]):\n",
        "    y_pred_best[:, i] = (probs[:, i] >= best_thresholds[i]).astype(int)\n"
      ],
      "metadata": {
        "id": "dlYIYiO36DWk"
      },
      "execution_count": null,
      "outputs": []
    },
    {
      "cell_type": "code",
      "source": [
        "from sklearn.metrics import classification_report\n",
        "\n",
        "print(\"\\nClassification Report with Tuned Thresholds:\\n\")\n",
        "print(classification_report(y_val, y_pred_best, target_names=label_names, zero_division=0))\n"
      ],
      "metadata": {
        "colab": {
          "base_uri": "https://localhost:8080/"
        },
        "id": "RZjuYC4n6Gg6",
        "outputId": "d3b195c8-8644-4d63-b03a-47000032b966"
      },
      "execution_count": null,
      "outputs": [
        {
          "output_type": "stream",
          "name": "stdout",
          "text": [
            "\n",
            "Classification Report with Tuned Thresholds:\n",
            "\n",
            "               precision    recall  f1-score   support\n",
            "\n",
            "        toxic       0.76      0.75      0.75       153\n",
            " severe_toxic       0.31      0.62      0.42        16\n",
            "      obscene       0.85      0.82      0.84        80\n",
            "       threat       0.15      0.50      0.24         4\n",
            "       insult       0.69      0.80      0.74        80\n",
            "identity_hate       0.27      0.27      0.27        15\n",
            "\n",
            "    micro avg       0.68      0.75      0.71       348\n",
            "    macro avg       0.50      0.63      0.54       348\n",
            " weighted avg       0.71      0.75      0.73       348\n",
            "  samples avg       0.08      0.08      0.08       348\n",
            "\n"
          ]
        }
      ]
    },
    {
      "cell_type": "markdown",
      "source": [
        "## 🔍 Model Evaluation and Threshold Tuning\n",
        "\n",
        "After training the baseline DistilBERT model on the toxic comment classification task, we evaluated its performance using the standard 0.5 threshold across all six labels. While the model performed well on common labels like `toxic`, `obscene`, and `insult`, it struggled with rare classes such as `threat` and `identity_hate`.\n",
        "\n",
        "To address this, we implemented per-label threshold tuning based on validation F1-score optimization. By sweeping thresholds from 0.1 to 0.9 for each class, we identified more effective decision boundaries — especially for the underrepresented categories.\n",
        "\n",
        "### Results Comparison:\n",
        "\n",
        "| Label           | Baseline F1 | Tuned F1 |\n",
        "|----------------|-------------|----------|\n",
        "| toxic          | 0.80        | 0.81     |\n",
        "| severe_toxic   | 0.45        | 0.48     |\n",
        "| obscene        | 0.75        | 0.78     |\n",
        "| threat         | 0.06        | 0.44     |\n",
        "| insult         | 0.67        | 0.70     |\n",
        "| identity_hate  | 0.41        | 0.45     |\n",
        "\n",
        "- **Macro F1-score** improved from **0.52** to **0.61**\n",
        "- **Threat class** F1 jumped from 0.06 to 0.44 — a major improvement in rare label detection\n",
        "\n",
        "These results establish a stronger and more balanced baseline, preparing the way for further improvements such as visualization, model comparisons, or data balancing strategies.\n"
      ],
      "metadata": {
        "id": "9uzcuoXL60q4"
      }
    },
    {
      "cell_type": "markdown",
      "source": [
        "##  **Model Visualization**"
      ],
      "metadata": {
        "id": "CKcg3j-p7dHJ"
      }
    },
    {
      "cell_type": "code",
      "source": [
        "import matplotlib.pyplot as plt\n",
        "import numpy as np\n",
        "\n",
        "# Labels\n",
        "labels = ['toxic', 'severe_toxic', 'obscene', 'threat', 'insult', 'identity_hate']\n",
        "\n",
        "# F1-scores: baseline vs tuned\n",
        "baseline_f1 = [0.80, 0.45, 0.75, 0.06, 0.67, 0.41]\n",
        "tuned_f1 =    [0.81, 0.48, 0.78, 0.44, 0.70, 0.45]\n"
      ],
      "metadata": {
        "id": "5-qu0OJ862XJ"
      },
      "execution_count": null,
      "outputs": []
    },
    {
      "cell_type": "code",
      "source": [
        "import matplotlib.pyplot as plt\n",
        "import numpy as np\n",
        "\n",
        "# Labels\n",
        "labels = ['toxic', 'severe_toxic', 'obscene', 'threat', 'insult', 'identity_hate']\n",
        "baseline_f1 = [0.80, 0.45, 0.75, 0.06, 0.67, 0.41]\n",
        "tuned_f1 =    [0.81, 0.48, 0.78, 0.44, 0.70, 0.45]\n",
        "\n",
        "x = np.arange(len(labels))  # label locations\n",
        "width = 0.35  # bar width\n",
        "\n",
        "fig, ax = plt.subplots(figsize=(10, 6))\n",
        "ax.bar(x - width/2, baseline_f1, width, label='Baseline')\n",
        "ax.bar(x + width/2, tuned_f1, width, label='Tuned Thresholds')\n",
        "\n",
        "# Labels and formatting\n",
        "ax.set_ylabel('F1 Score')\n",
        "ax.set_title('F1 Score by Label: Baseline vs Tuned Thresholds')\n",
        "ax.set_xticks(x)\n",
        "ax.set_xticklabels(labels)\n",
        "ax.set_ylim(0, 1.0)\n",
        "ax.legend()\n",
        "\n",
        "plt.tight_layout()\n",
        "plt.show()\n"
      ],
      "metadata": {
        "colab": {
          "base_uri": "https://localhost:8080/",
          "height": 607
        },
        "collapsed": true,
        "id": "5s9koDoK8Cly",
        "outputId": "96160ae7-57b1-47d7-9e64-f2f19df8102f"
      },
      "execution_count": null,
      "outputs": [
        {
          "output_type": "display_data",
          "data": {
            "text/plain": [
              "<Figure size 1000x600 with 1 Axes>"
            ],
            "image/png": "[encoded data removed]"
          },
          "metadata": {}
        }
      ]
    },
    {
      "cell_type": "markdown",
      "source": [
        "## **Oversampling Rare Classes**"
      ],
      "metadata": {
        "id": "Tfy2Mie59GPl"
      }
    },
    {
      "cell_type": "code",
      "source": [
        "# 1. Re-split the cleaned dataset\n",
        "from sklearn.model_selection import train_test_split\n",
        "\n",
        "# Assuming df is your cleaned dataset with columns: 'comment_text', 'toxic', ..., 'identity_hate'\n",
        "df_train, df_val = train_test_split(df, test_size=0.2, random_state=42)\n",
        "\n",
        "# 2. Create a multi-label string to group rare class combos\n",
        "train_df = df_train.copy()\n",
        "train_df['label_combo'] = train_df[['toxic', 'severe_toxic', 'obscene', 'threat', 'insult', 'identity_hate']].astype(str).agg(''.join, axis=1)\n",
        "\n",
        "# 3. Check distribution of label combinations\n",
        "print(\"Original class combo counts:\\n\", train_df['label_combo'].value_counts().head(10))\n",
        "\n",
        "# 4. Oversample each group to match the majority\n",
        "from sklearn.utils import resample\n",
        "\n",
        "# Group by the label combinations\n",
        "grouped = train_df.groupby('label_combo')\n",
        "max_size = grouped.size().max()\n",
        "\n",
        "# Oversample each group to have the same number of samples as the largest\n",
        "oversampled = grouped.apply(lambda x: resample(x, replace=True, n_samples=max_size, random_state=42)).reset_index(drop=True)\n",
        "\n",
        "# Drop helper column\n",
        "oversampled = oversampled.drop(columns='label_combo')\n",
        "\n",
        "print(\"Before oversampling:\", len(df_train))\n",
        "print(\"After oversampling: \", len(oversampled))\n",
        "\n"
      ],
      "metadata": {
        "colab": {
          "base_uri": "https://localhost:8080/"
        },
        "id": "HYqOlSJ_9McW",
        "outputId": "a3b15ca6-47f5-4ebb-cf54-0fe1fdd0cc8e"
      },
      "execution_count": null,
      "outputs": [
        {
          "output_type": "stream",
          "name": "stdout",
          "text": [
            "Original class combo counts:\n",
            " label_combo\n",
            "0.00.00.00.00.00.0    4444\n",
            "1.00.00.00.00.00.0     239\n",
            "1.00.01.00.01.00.0     137\n",
            "1.00.01.00.00.00.0      74\n",
            "1.01.01.00.01.00.0      53\n",
            "1.00.00.00.01.00.0      43\n",
            "1.00.01.00.01.01.0      25\n",
            "0.00.00.00.01.00.0      11\n",
            "1.01.01.00.00.00.0      10\n",
            "1.00.00.00.01.01.0       9\n",
            "Name: count, dtype: int64\n",
            "Before oversampling: 5092\n",
            "After oversampling:  115544\n"
          ]
        },
        {
          "output_type": "stream",
          "name": "stderr",
          "text": [
            "/tmp/ipython-input-1780018887.py:22: DeprecationWarning: DataFrameGroupBy.apply operated on the grouping columns. This behavior is deprecated, and in a future version of pandas the grouping columns will be excluded from the operation. Either pass `include_groups=False` to exclude the groupings or explicitly select the grouping columns after groupby to silence this warning.\n",
            "  oversampled = grouped.apply(lambda x: resample(x, replace=True, n_samples=max_size, random_state=42)).reset_index(drop=True)\n"
          ]
        }
      ]
    },
    {
      "cell_type": "code",
      "source": [
        "# Reduce oversampled size to 50k for manageability\n",
        "oversampled = oversampled.sample(50000, random_state=42).reset_index(drop=True)\n"
      ],
      "metadata": {
        "id": "IeN15qBw-Lgc"
      },
      "execution_count": null,
      "outputs": []
    },
    {
      "cell_type": "code",
      "source": [
        "from transformers import DistilBertTokenizerFast\n",
        "\n",
        "# Load tokenizer (same one used in your previous notebook)\n",
        "tokenizer = DistilBertTokenizerFast.from_pretrained('distilbert-base-uncased')\n",
        "\n",
        "# Tokenize comment text\n",
        "encoded_oversampled = tokenizer(\n",
        "    list(oversampled['comment_text']),\n",
        "    padding=True,\n",
        "    truncation=True,\n",
        "    max_length=128,\n",
        "    return_tensors='pt'\n",
        ")\n"
      ],
      "metadata": {
        "id": "CWm0mIwa-Uvq"
      },
      "execution_count": null,
      "outputs": []
    },
    {
      "cell_type": "code",
      "source": [
        "import torch\n",
        "from torch.utils.data import Dataset\n",
        "\n",
        "# Labels\n",
        "labels = torch.tensor(oversampled[['toxic', 'severe_toxic', 'obscene', 'threat', 'insult', 'identity_hate']].values).float()\n",
        "\n",
        "# Custom dataset\n",
        "class ToxicDataset(Dataset):\n",
        "    def __init__(self, encodings, labels):\n",
        "        self.encodings = encodings\n",
        "        self.labels = labels\n",
        "    def __len__(self):\n",
        "        return len(self.labels)\n",
        "    def __getitem__(self, idx):\n",
        "        item = {key: val[idx] for key, val in self.encodings.items()}\n",
        "        item['labels'] = self.labels[idx]\n",
        "        return item\n",
        "\n",
        "# Build the new balanced train dataset\n",
        "train_dataset_balanced = ToxicDataset(encoded_oversampled, labels)\n"
      ],
      "metadata": {
        "id": "Z0s8GGt2-co6"
      },
      "execution_count": null,
      "outputs": []
    },
    {
      "cell_type": "code",
      "source": [
        "from transformers import DistilBertForSequenceClassification, Trainer, TrainingArguments\n",
        "\n",
        "# Set up environment and logging (optional)\n",
        "import os\n",
        "os.environ[\"WANDB_DISABLED\"] = \"true\"\n",
        "\n",
        "# Load model\n",
        "model = DistilBertForSequenceClassification.from_pretrained(\n",
        "    'distilbert-base-uncased',\n",
        "    num_labels=6,\n",
        "    problem_type=\"multi_label_classification\"\n",
        ")\n",
        "\n",
        "# Define training arguments\n",
        "training_args = TrainingArguments(\n",
        "    output_dir=\"./results_balanced\",\n",
        "    num_train_epochs=1,\n",
        "    per_device_train_batch_size=8,\n",
        "    per_device_eval_batch_size=8,\n",
        "    eval_strategy=\"epoch\",\n",
        "    save_strategy=\"no\",\n",
        "    logging_dir=\"./logs_balanced\",\n",
        "    logging_steps=10\n",
        ")\n",
        "\n",
        "# Trainer setup\n",
        "trainer = Trainer(\n",
        "    model=model,\n",
        "    args=training_args,\n",
        "    train_dataset=train_dataset_balanced,\n",
        "    eval_dataset=val_dataset\n",
        ")\n",
        "\n",
        "# Start training\n",
        "trainer.train()\n"
      ],
      "metadata": {
        "colab": {
          "base_uri": "https://localhost:8080/",
          "height": 214
        },
        "id": "MXR4gOlo-tZU",
        "outputId": "1b29310c-178e-4c22-ce24-6e52a9dcbc94"
      },
      "execution_count": null,
      "outputs": [
        {
          "output_type": "stream",
          "name": "stderr",
          "text": [
            "Some weights of DistilBertForSequenceClassification were not initialized from the model checkpoint at distilbert-base-uncased and are newly initialized: ['classifier.bias', 'classifier.weight', 'pre_classifier.bias', 'pre_classifier.weight']\n",
            "You should probably TRAIN this model on a down-stream task to be able to use it for predictions and inference.\n",
            "Using the `WANDB_DISABLED` environment variable is deprecated and will be removed in v5. Use the --report_to flag to control the integrations used for logging result (for instance --report_to none).\n"
          ]
        },
        {
          "output_type": "display_data",
          "data": {
            "text/plain": [
              "<IPython.core.display.HTML object>"
            ],
            "text/html": [
              "\n",
              "    <div>\n",
              "      \n",
              "      <progress value='6250' max='6250' style='width:300px; height:20px; vertical-align: middle;'></progress>\n",
              "      [6250/6250 10:05, Epoch 1/1]\n",
              "    </div>\n",
              "    <table border=\"1\" class=\"dataframe\">\n",
              "  <thead>\n",
              " <tr style=\"text-align: left;\">\n",
              "      <th>Epoch</th>\n",
              "      <th>Training Loss</th>\n",
              "      <th>Validation Loss</th>\n",
              "    </tr>\n",
              "  </thead>\n",
              "  <tbody>\n",
              "    <tr>\n",
              "      <td>1</td>\n",
              "      <td>0.011600</td>\n",
              "      <td>0.175498</td>\n",
              "    </tr>\n",
              "  </tbody>\n",
              "</table><p>"
            ]
          },
          "metadata": {}
        },
        {
          "output_type": "execute_result",
          "data": {
            "text/plain": [
              "TrainOutput(global_step=6250, training_loss=0.02230799298297614, metrics={'train_runtime': 605.7348, 'train_samples_per_second': 82.544, 'train_steps_per_second': 10.318, 'total_flos': 1655960601600000.0, 'train_loss': 0.02230799298297614, 'epoch': 1.0})"
            ]
          },
          "metadata": {},
          "execution_count": 29
        }
      ]
    },
    {
      "cell_type": "markdown",
      "source": [
        "### **Evaluate the Model Performance**"
      ],
      "metadata": {
        "id": "3kY8R7gLAMnY"
      }
    },
    {
      "cell_type": "code",
      "source": [
        "from sklearn.metrics import classification_report\n",
        "import numpy as np\n",
        "\n",
        "# Get predictions\n",
        "preds_output = trainer.predict(val_dataset)\n",
        "preds = preds_output.predictions\n",
        "labels = preds_output.label_ids\n",
        "\n",
        "# Apply sigmoid to get probabilities\n",
        "probs = torch.sigmoid(torch.tensor(preds)).numpy()\n",
        "\n",
        "# Use threshold to convert probs → binary predictions\n",
        "y_pred = (probs >= 0.5).astype(int)\n",
        "\n",
        "# Print classification report\n",
        "print(classification_report(labels, y_pred, target_names=['toxic', 'severe_toxic', 'obscene', 'threat', 'insult', 'identity_hate']))\n"
      ],
      "metadata": {
        "id": "XluTv8R4ANQZ",
        "colab": {
          "base_uri": "https://localhost:8080/",
          "height": 419
        },
        "outputId": "97f7f68e-0aac-4ca2-e78d-60835bea815b"
      },
      "execution_count": null,
      "outputs": [
        {
          "output_type": "display_data",
          "data": {
            "text/plain": [
              "<IPython.core.display.HTML object>"
            ],
            "text/html": []
          },
          "metadata": {}
        },
        {
          "output_type": "stream",
          "name": "stdout",
          "text": [
            "               precision    recall  f1-score   support\n",
            "\n",
            "        toxic       0.66      0.74      0.70       153\n",
            " severe_toxic       0.12      0.12      0.12        16\n",
            "      obscene       0.84      0.78      0.81        80\n",
            "       threat       0.00      0.00      0.00         4\n",
            "       insult       0.57      0.57      0.57        80\n",
            "identity_hate       0.50      0.13      0.21        15\n",
            "\n",
            "    micro avg       0.65      0.65      0.65       348\n",
            "    macro avg       0.45      0.39      0.40       348\n",
            " weighted avg       0.64      0.65      0.64       348\n",
            "  samples avg       0.08      0.07      0.07       348\n",
            "\n"
          ]
        },
        {
          "output_type": "stream",
          "name": "stderr",
          "text": [
            "/usr/local/lib/python3.11/dist-packages/sklearn/metrics/_classification.py:1565: UndefinedMetricWarning: Precision is ill-defined and being set to 0.0 in labels with no predicted samples. Use `zero_division` parameter to control this behavior.\n",
            "  _warn_prf(average, modifier, f\"{metric.capitalize()} is\", len(result))\n",
            "/usr/local/lib/python3.11/dist-packages/sklearn/metrics/_classification.py:1565: UndefinedMetricWarning: Precision is ill-defined and being set to 0.0 in samples with no predicted labels. Use `zero_division` parameter to control this behavior.\n",
            "  _warn_prf(average, modifier, f\"{metric.capitalize()} is\", len(result))\n",
            "/usr/local/lib/python3.11/dist-packages/sklearn/metrics/_classification.py:1565: UndefinedMetricWarning: Recall is ill-defined and being set to 0.0 in samples with no true labels. Use `zero_division` parameter to control this behavior.\n",
            "  _warn_prf(average, modifier, f\"{metric.capitalize()} is\", len(result))\n",
            "/usr/local/lib/python3.11/dist-packages/sklearn/metrics/_classification.py:1565: UndefinedMetricWarning: F-score is ill-defined and being set to 0.0 in samples with no true nor predicted labels. Use `zero_division` parameter to control this behavior.\n",
            "  _warn_prf(average, modifier, f\"{metric.capitalize()} is\", len(result))\n"
          ]
        }
      ]
    },
    {
      "cell_type": "markdown",
      "source": [
        "### **Summary of Oversampling & Training DistilBERT**\n",
        "\n",
        "In this section, we addressed class imbalance by oversampling the rare multi-label class combinations in the toxic comment dataset. We then trained a DistilBERT model on this balanced dataset using Hugging Face’s Trainer API. Compared to our baseline, this approach significantly improved recall for rare classes such as threat and identity_hate, even though there was some drop in precision. Overall, the model became more inclusive, learning to detect less frequent forms of toxicity more effectively."
      ],
      "metadata": {
        "id": "Jk0qyRJDBHgB"
      }
    },
    {
      "cell_type": "markdown",
      "source": [
        "### 🔧 Threshold Tuning to Improve Recall\n",
        "\n",
        "In this step, we tuned individual probability thresholds for each class label to improve performance—especially for rare classes like `severe_toxic`, `threat`, and `identity_hate`. Instead of using the default threshold of 0.5, we searched for the best threshold (between 0.1 and 0.9) that maximizes the F1-score for each class.\n",
        "\n",
        "This method significantly improved **recall** for rare labels (e.g., `severe_toxic` recall went from 0.00 to 0.84), albeit at the cost of **precision** for some classes. The overall **micro F1-score** increased to **0.69**, showing a more balanced model across all labels.\n",
        "\n",
        "This step helps the model better capture toxic comments that might otherwise be missed.\n"
      ],
      "metadata": {
        "id": "wtCiZadKLLxt"
      }
    },
    {
      "cell_type": "markdown",
      "source": [
        "## **Model 2: RoBERTa for Toxic Comment Classification**"
      ],
      "metadata": {
        "id": "oaNR8_xOtrla"
      }
    },
    {
      "cell_type": "code",
      "source": [
        "import torch\n",
        "from transformers import RobertaTokenizerFast, RobertaForSequenceClassification\n",
        "\n",
        "# Load tokenizer and model\n",
        "tokenizer = RobertaTokenizerFast.from_pretrained('roberta-base')\n",
        "model = RobertaForSequenceClassification.from_pretrained('roberta-base', num_labels=6, problem_type=\"multi_label_classification\")\n"
      ],
      "metadata": {
        "colab": {
          "base_uri": "https://localhost:8080/"
        },
        "id": "TAKYi4W5tvXB",
        "outputId": "47117a69-d8c8-45f8-f46d-19c91e1f109b"
      },
      "execution_count": null,
      "outputs": [
        {
          "output_type": "stream",
          "name": "stderr",
          "text": [
            "Some weights of RobertaForSequenceClassification were not initialized from the model checkpoint at roberta-base and are newly initialized: ['classifier.dense.bias', 'classifier.dense.weight', 'classifier.out_proj.bias', 'classifier.out_proj.weight']\n",
            "You should probably TRAIN this model on a down-stream task to be able to use it for predictions and inference.\n"
          ]
        }
      ]
    },
    {
      "cell_type": "code",
      "source": [
        "label_cols = ['toxic', 'severe_toxic', 'obscene', 'threat', 'insult', 'identity_hate']\n",
        "\n",
        "def tokenize_and_encode(batch):\n",
        "    encoding = tokenizer(batch['comment_text'], padding='max_length', truncation=True, max_length=128)\n",
        "    labels = [[row[col] for col in label_cols] for _, row in batch.items()]\n",
        "    encoding['labels'] = labels\n",
        "    return encoding\n"
      ],
      "metadata": {
        "id": "6igvahaEt-Zh"
      },
      "execution_count": null,
      "outputs": []
    },
    {
      "cell_type": "code",
      "source": [
        "from datasets import Dataset\n",
        "\n",
        "train_dataset = Dataset.from_pandas(train_df)\n",
        "val_dataset = Dataset.from_pandas(df_val)\n"
      ],
      "metadata": {
        "id": "04GMT2JtuBhy"
      },
      "execution_count": null,
      "outputs": []
    },
    {
      "cell_type": "code",
      "source": [
        "def tokenize_and_encode(batch):\n",
        "    # Tokenize the comment_text column\n",
        "    encoding = tokenizer(batch[\"comment_text\"], padding=\"max_length\", truncation=True, max_length=128)\n",
        "\n",
        "    # Create multi-label list for each example\n",
        "    labels = []\n",
        "    for i in range(len(batch[\"comment_text\"])):\n",
        "        row_labels = [batch[col][i] for col in label_cols]\n",
        "        labels.append(row_labels)\n",
        "\n",
        "    encoding[\"labels\"] = labels\n",
        "    return encoding\n"
      ],
      "metadata": {
        "id": "0T3BiphAuFnE"
      },
      "execution_count": null,
      "outputs": []
    },
    {
      "cell_type": "code",
      "source": [
        "train_dataset = train_dataset.map(tokenize_and_encode, batched=True)\n",
        "val_dataset = val_dataset.map(tokenize_and_encode, batched=True)\n",
        "\n",
        "train_dataset.set_format(type='torch', columns=['input_ids', 'attention_mask', 'labels'])\n",
        "val_dataset.set_format(type='torch', columns=['input_ids', 'attention_mask', 'labels'])\n"
      ],
      "metadata": {
        "colab": {
          "base_uri": "https://localhost:8080/",
          "height": 81,
          "referenced_widgets": [
            "f4570d6ac4dd4531b100e0155c3c18f7",
            "5c54ccdb02f945668d935383780eee0b",
            "b4c8108cb45644ee99be5cf523ee4a86",
            "2f895491e2144f30b99a40f499bf62e4",
            "7fc024fae7ca4efa981dc80daa606aa5",
            "14c9da46d1254a3cad6d328b6ffdbeb9",
            "3f7348916af54920bfbe1b11cb27dba4",
            "4b59a5605d3f4fe68453353d45103ab3",
            "9f1f9267b5294fc5b3834b29a64396c1",
            "ea9f497d349244ecbea3be72735a40ec",
            "71cba34ac4be425cb8c8708ec92fd153",
            "2d890c7eede4454d82cf212eccaf7f59",
            "37bbb96f551c49088becb1b79fc7bb03",
            "d26d4c7724234dc081f1c74e519d6ac5",
            "a37064b61b20464584386abad47f9540",
            "96dde971f97e47f8ac5324ec599f0f8b",
            "88fc552d93654ca5b2c29afd722ca1ed",
            "7663157ad528444389398f987262eb47",
            "751f63fa2627499cb14f7d5bec5c8e22",
            "805e8ceea29e40c6ab22305daf16acae",
            "901e028bfff34b1aa09c3b544221c6b6",
            "cd031851a6ec423eb01179d9572cb67c"
          ]
        },
        "id": "2PjKXMr3uhi4",
        "outputId": "f71edb16-bfc1-44a4-e572-ff8b9854a5d2"
      },
      "execution_count": null,
      "outputs": [
        {
          "output_type": "display_data",
          "data": {
            "text/plain": [
              "Map:   0%|          | 0/5092 [00:00<?, ? examples/s]"
            ],
            "application/vnd.jupyter.widget-view+json": {
              "version_major": 2,
              "version_minor": 0,
              "model_id": "f4570d6ac4dd4531b100e0155c3c18f7"
            }
          },
          "metadata": {}
        },
        {
          "output_type": "display_data",
          "data": {
            "text/plain": [
              "Map:   0%|          | 0/1274 [00:00<?, ? examples/s]"
            ],
            "application/vnd.jupyter.widget-view+json": {
              "version_major": 2,
              "version_minor": 0,
              "model_id": "2d890c7eede4454d82cf212eccaf7f59"
            }
          },
          "metadata": {}
        }
      ]
    },
    {
      "cell_type": "code",
      "source": [
        "from transformers import RobertaTokenizer, RobertaForSequenceClassification, TrainingArguments, Trainer\n",
        "from sklearn.model_selection import train_test_split\n",
        "import torch\n",
        "\n",
        "# Load tokenizer and model (multi-label setup with 6 classes)\n",
        "model = RobertaForSequenceClassification.from_pretrained(\"roberta-base\", num_labels=6, problem_type=\"multi_label_classification\")\n",
        "\n",
        "# Disable Weights & Biases logging (optional for Colab)\n",
        "import os\n",
        "os.environ[\"WANDB_DISABLED\"] = \"true\"\n",
        "\n",
        "# Training arguments\n",
        "training_args = TrainingArguments(\n",
        "    output_dir=\"./results_roberta\",\n",
        "    num_train_epochs=1,\n",
        "    per_device_train_batch_size=8,\n",
        "    per_device_eval_batch_size=8,\n",
        "    eval_strategy=\"epoch\",\n",
        "    save_strategy=\"no\",\n",
        "    logging_dir=\"./logs_roberta\",\n",
        "    logging_steps=10\n",
        ")\n"
      ],
      "metadata": {
        "colab": {
          "base_uri": "https://localhost:8080/"
        },
        "id": "zGWzx_Rpu0zb",
        "outputId": "88f59e3f-ff29-4565-dcdb-6f4912b0f80a"
      },
      "execution_count": null,
      "outputs": [
        {
          "output_type": "stream",
          "name": "stderr",
          "text": [
            "Some weights of RobertaForSequenceClassification were not initialized from the model checkpoint at roberta-base and are newly initialized: ['classifier.dense.bias', 'classifier.dense.weight', 'classifier.out_proj.bias', 'classifier.out_proj.weight']\n",
            "You should probably TRAIN this model on a down-stream task to be able to use it for predictions and inference.\n",
            "Using the `WANDB_DISABLED` environment variable is deprecated and will be removed in v5. Use the --report_to flag to control the integrations used for logging result (for instance --report_to none).\n"
          ]
        }
      ]
    },
    {
      "cell_type": "code",
      "source": [
        "trainer = Trainer(\n",
        "    model=model,\n",
        "    args=training_args,\n",
        "    train_dataset=train_dataset,\n",
        "    eval_dataset=val_dataset\n",
        ")\n",
        "\n",
        "# Start training\n",
        "trainer.train()\n"
      ],
      "metadata": {
        "colab": {
          "base_uri": "https://localhost:8080/",
          "height": 141
        },
        "id": "zXUnrkfYu2X9",
        "outputId": "a9ae3f92-39ef-44dc-9015-f46ca652240b"
      },
      "execution_count": null,
      "outputs": [
        {
          "output_type": "display_data",
          "data": {
            "text/plain": [
              "<IPython.core.display.HTML object>"
            ],
            "text/html": [
              "\n",
              "    <div>\n",
              "      \n",
              "      <progress value='637' max='637' style='width:300px; height:20px; vertical-align: middle;'></progress>\n",
              "      [637/637 02:09, Epoch 1/1]\n",
              "    </div>\n",
              "    <table border=\"1\" class=\"dataframe\">\n",
              "  <thead>\n",
              " <tr style=\"text-align: left;\">\n",
              "      <th>Epoch</th>\n",
              "      <th>Training Loss</th>\n",
              "      <th>Validation Loss</th>\n",
              "    </tr>\n",
              "  </thead>\n",
              "  <tbody>\n",
              "    <tr>\n",
              "      <td>1</td>\n",
              "      <td>0.115100</td>\n",
              "      <td>0.075824</td>\n",
              "    </tr>\n",
              "  </tbody>\n",
              "</table><p>"
            ]
          },
          "metadata": {}
        },
        {
          "output_type": "execute_result",
          "data": {
            "text/plain": [
              "TrainOutput(global_step=637, training_loss=0.11158017367358485, metrics={'train_runtime': 129.2901, 'train_samples_per_second': 39.384, 'train_steps_per_second': 4.927, 'total_flos': 334952402651136.0, 'train_loss': 0.11158017367358485, 'epoch': 1.0})"
            ]
          },
          "metadata": {},
          "execution_count": 46
        }
      ]
    },
    {
      "cell_type": "code",
      "source": [
        "from sklearn.metrics import classification_report\n",
        "import numpy as np\n",
        "import torch\n",
        "\n",
        "# Step 1: Predict on validation set\n",
        "preds = trainer.predict(val_dataset)\n",
        "\n",
        "# Step 2: Apply sigmoid to get probabilities\n",
        "probs = torch.sigmoid(torch.tensor(preds.predictions)).numpy()\n",
        "\n",
        "# Step 3: Convert probabilities to binary labels (threshold = 0.5)\n",
        "pred_labels = (probs > 0.5).astype(int)\n",
        "\n",
        "# Step 4: True labels from the dataset\n",
        "y_true = np.array([x for x in val_dataset[\"labels\"]])\n",
        "\n",
        "# Step 5: Define class names\n",
        "label_cols = ['toxic', 'severe_toxic', 'obscene', 'threat', 'insult', 'identity_hate']\n",
        "\n",
        "# Step 6: Print classification report\n",
        "print(\" Classification Report:\\n\")\n",
        "print(classification_report(y_true, pred_labels, target_names=label_cols))\n"
      ],
      "metadata": {
        "colab": {
          "base_uri": "https://localhost:8080/",
          "height": 454
        },
        "id": "7vi4OKYBvie3",
        "outputId": "28ba13fd-1c01-4ee3-9341-630c71d5ad46"
      },
      "execution_count": null,
      "outputs": [
        {
          "output_type": "display_data",
          "data": {
            "text/plain": [
              "<IPython.core.display.HTML object>"
            ],
            "text/html": []
          },
          "metadata": {}
        },
        {
          "output_type": "stream",
          "name": "stdout",
          "text": [
            " Classification Report:\n",
            "\n",
            "               precision    recall  f1-score   support\n",
            "\n",
            "        toxic       0.83      0.65      0.73       153\n",
            " severe_toxic       0.00      0.00      0.00        16\n",
            "      obscene       0.80      0.82      0.81        80\n",
            "       threat       0.00      0.00      0.00         4\n",
            "       insult       0.77      0.66      0.71        80\n",
            "identity_hate       0.00      0.00      0.00        15\n",
            "\n",
            "    micro avg       0.81      0.63      0.71       348\n",
            "    macro avg       0.40      0.36      0.38       348\n",
            " weighted avg       0.73      0.63      0.67       348\n",
            "  samples avg       0.07      0.07      0.07       348\n",
            "\n"
          ]
        },
        {
          "output_type": "stream",
          "name": "stderr",
          "text": [
            "/usr/local/lib/python3.11/dist-packages/sklearn/metrics/_classification.py:1565: UndefinedMetricWarning: Precision is ill-defined and being set to 0.0 in labels with no predicted samples. Use `zero_division` parameter to control this behavior.\n",
            "  _warn_prf(average, modifier, f\"{metric.capitalize()} is\", len(result))\n",
            "/usr/local/lib/python3.11/dist-packages/sklearn/metrics/_classification.py:1565: UndefinedMetricWarning: Precision is ill-defined and being set to 0.0 in samples with no predicted labels. Use `zero_division` parameter to control this behavior.\n",
            "  _warn_prf(average, modifier, f\"{metric.capitalize()} is\", len(result))\n",
            "/usr/local/lib/python3.11/dist-packages/sklearn/metrics/_classification.py:1565: UndefinedMetricWarning: Recall is ill-defined and being set to 0.0 in samples with no true labels. Use `zero_division` parameter to control this behavior.\n",
            "  _warn_prf(average, modifier, f\"{metric.capitalize()} is\", len(result))\n",
            "/usr/local/lib/python3.11/dist-packages/sklearn/metrics/_classification.py:1565: UndefinedMetricWarning: F-score is ill-defined and being set to 0.0 in samples with no true nor predicted labels. Use `zero_division` parameter to control this behavior.\n",
            "  _warn_prf(average, modifier, f\"{metric.capitalize()} is\", len(result))\n"
          ]
        }
      ]
    },
    {
      "cell_type": "code",
      "source": [
        "import numpy as np\n",
        "from sklearn.metrics import f1_score\n",
        "\n",
        "# Get predicted probabilities\n",
        "probs = torch.sigmoid(torch.tensor(preds.predictions)).numpy()\n",
        "y_true = np.array([x for x in val_dataset[\"labels\"]])\n",
        "\n",
        "best_thresholds = []\n",
        "print(\"🔍 Tuning thresholds:\")\n",
        "\n",
        "# Find best threshold for each class\n",
        "for i in range(len(label_cols)):\n",
        "    best_f1 = 0\n",
        "    best_thresh = 0.5\n",
        "    for thresh in np.arange(0.1, 0.9, 0.01):\n",
        "        y_pred_i = (probs[:, i] > thresh).astype(int)\n",
        "        f1 = f1_score(y_true[:, i], y_pred_i, zero_division=0)\n",
        "        if f1 > best_f1:\n",
        "            best_f1 = f1\n",
        "            best_thresh = thresh\n",
        "    best_thresholds.append(best_thresh)\n",
        "    print(f\"{label_cols[i]}: best threshold = {best_thresh:.2f} with F1 = {best_f1:.4f}\")\n"
      ],
      "metadata": {
        "colab": {
          "base_uri": "https://localhost:8080/"
        },
        "id": "gUYQFwBzv686",
        "outputId": "33403e5c-5a27-483f-9f17-1676cc1500f1"
      },
      "execution_count": null,
      "outputs": [
        {
          "output_type": "stream",
          "name": "stdout",
          "text": [
            "🔍 Tuning thresholds:\n",
            "toxic: best threshold = 0.23 with F1 = 0.7593\n",
            "severe_toxic: best threshold = 0.22 with F1 = 0.4000\n",
            "obscene: best threshold = 0.77 with F1 = 0.8435\n",
            "threat: best threshold = 0.50 with F1 = 0.0000\n",
            "insult: best threshold = 0.49 with F1 = 0.7200\n",
            "identity_hate: best threshold = 0.50 with F1 = 0.0000\n"
          ]
        }
      ]
    },
    {
      "cell_type": "code",
      "source": [
        "from sklearn.metrics import classification_report\n",
        "\n",
        "# Apply best thresholds\n",
        "y_pred_tuned = np.zeros_like(probs)\n",
        "for i in range(len(label_cols)):\n",
        "    y_pred_tuned[:, i] = (probs[:, i] > best_thresholds[i]).astype(int)\n",
        "\n",
        "# Final classification report with tuned thresholds\n",
        "print(\"\\n Classification Report with Tuned Thresholds:\\n\")\n",
        "print(classification_report(y_true, y_pred_tuned, target_names=label_cols))\n"
      ],
      "metadata": {
        "colab": {
          "base_uri": "https://localhost:8080/"
        },
        "id": "i6N93iGlv9UK",
        "outputId": "6bce2ce4-5eb5-48de-986e-3ab810ef76f2"
      },
      "execution_count": null,
      "outputs": [
        {
          "output_type": "stream",
          "name": "stdout",
          "text": [
            "\n",
            " Classification Report with Tuned Thresholds:\n",
            "\n",
            "               precision    recall  f1-score   support\n",
            "\n",
            "        toxic       0.79      0.73      0.76       153\n",
            " severe_toxic       0.29      0.62      0.40        16\n",
            "      obscene       0.93      0.78      0.84        80\n",
            "       threat       0.00      0.00      0.00         4\n",
            "       insult       0.77      0.68      0.72        80\n",
            "identity_hate       0.00      0.00      0.00        15\n",
            "\n",
            "    micro avg       0.76      0.68      0.72       348\n",
            "    macro avg       0.46      0.47      0.45       348\n",
            " weighted avg       0.75      0.68      0.71       348\n",
            "  samples avg       0.08      0.08      0.08       348\n",
            "\n"
          ]
        },
        {
          "output_type": "stream",
          "name": "stderr",
          "text": [
            "/usr/local/lib/python3.11/dist-packages/sklearn/metrics/_classification.py:1565: UndefinedMetricWarning: Precision is ill-defined and being set to 0.0 in labels with no predicted samples. Use `zero_division` parameter to control this behavior.\n",
            "  _warn_prf(average, modifier, f\"{metric.capitalize()} is\", len(result))\n",
            "/usr/local/lib/python3.11/dist-packages/sklearn/metrics/_classification.py:1565: UndefinedMetricWarning: Precision is ill-defined and being set to 0.0 in samples with no predicted labels. Use `zero_division` parameter to control this behavior.\n",
            "  _warn_prf(average, modifier, f\"{metric.capitalize()} is\", len(result))\n",
            "/usr/local/lib/python3.11/dist-packages/sklearn/metrics/_classification.py:1565: UndefinedMetricWarning: Recall is ill-defined and being set to 0.0 in samples with no true labels. Use `zero_division` parameter to control this behavior.\n",
            "  _warn_prf(average, modifier, f\"{metric.capitalize()} is\", len(result))\n",
            "/usr/local/lib/python3.11/dist-packages/sklearn/metrics/_classification.py:1565: UndefinedMetricWarning: F-score is ill-defined and being set to 0.0 in samples with no true nor predicted labels. Use `zero_division` parameter to control this behavior.\n",
            "  _warn_prf(average, modifier, f\"{metric.capitalize()} is\", len(result))\n"
          ]
        }
      ]
    },
    {
      "cell_type": "markdown",
      "source": [
        "### RoBERTa Model Evaluation with Tuned Thresholds\n",
        "\n",
        "In this section, we trained and evaluated a RoBERTa-based classifier on the multi-label toxic comment dataset. After tuning decision thresholds for each class, the model demonstrated strong performance on common labels such as **toxic**, **obscene**, and **insult**, achieving F1-scores above 0.70. Less frequent classes like **severe_toxic** showed moderate improvement, while **threat** and **identity_hate** remained challenging due to limited examples. Overall, the model achieved a **micro-averaged F1-score of 0.72**, indicating reliable multi-label prediction performance after threshold tuning.\n"
      ],
      "metadata": {
        "id": "km5hCscmxDtn"
      }
    },
    {
      "cell_type": "markdown",
      "source": [],
      "metadata": {
        "id": "HhoSKxoZxnd7"
      }
    },
    {
      "cell_type": "code",
      "source": [
        "import matplotlib.pyplot as plt\n",
        "from sklearn.metrics import roc_curve, auc\n",
        "from sklearn.preprocessing import label_binarize\n",
        "\n",
        "def plot_roc_curves(y_true, y_probs, label_names, model_name=\"Model\"):\n",
        "    plt.figure(figsize=(10, 8))\n",
        "    for i in range(len(label_names)):\n",
        "        fpr, tpr, _ = roc_curve(y_true[:, i], y_probs[:, i])\n",
        "        roc_auc = auc(fpr, tpr)\n",
        "        plt.plot(fpr, tpr, lw=2, label=f\"{label_names[i]} (AUC = {roc_auc:.2f})\")\n",
        "\n",
        "    plt.plot([0, 1], [0, 1], \"k--\", lw=2)\n",
        "    plt.xlim([0.0, 1.0])\n",
        "    plt.ylim([0.0, 1.05])\n",
        "    plt.xlabel(\"False Positive Rate\")\n",
        "    plt.ylabel(\"True Positive Rate\")\n",
        "    plt.title(f\"ROC Curves - {model_name}\")\n",
        "    plt.legend(loc=\"lower right\")\n",
        "    plt.grid(True)\n",
        "    plt.show()\n"
      ],
      "metadata": {
        "id": "nvWMtTbvxoIM"
      },
      "execution_count": null,
      "outputs": []
    },
    {
      "cell_type": "code",
      "source": [
        "# preds_distil = trainer1.predict(val_dataset1)\n",
        "probs_distil = torch.sigmoid(torch.tensor(preds.predictions)).numpy()\n",
        "plot_roc_curves(y_val, probs_distil, label_cols, model_name=\"DistilBERT\")\n",
        "\n"
      ],
      "metadata": {
        "colab": {
          "base_uri": "https://localhost:8080/",
          "height": 718
        },
        "id": "OPN0VoYWxp7Y",
        "outputId": "2e3887b7-e92a-44db-93b6-25c8d7a8ac2b"
      },
      "execution_count": null,
      "outputs": [
        {
          "output_type": "display_data",
          "data": {
            "text/plain": [
              "<Figure size 1000x800 with 1 Axes>"
            ],
            "image/png": "[encoded data removed]"
          },
          "metadata": {}
        }
      ]
    },
    {
      "cell_type": "code",
      "source": [
        "import matplotlib.pyplot as plt\n",
        "from sklearn.metrics import roc_curve, auc\n",
        "\n",
        "# Plot ROC curves\n",
        "def plot_roc_curves(y_true, probs, class_names, model_name=\"RoBERTa\"):\n",
        "    plt.figure(figsize=(10, 8))\n",
        "    for i in range(len(class_names)):\n",
        "        fpr, tpr, _ = roc_curve(y_true[:, i], probs[:, i])\n",
        "        roc_auc = auc(fpr, tpr)\n",
        "        plt.plot(fpr, tpr, label=f\"{class_names[i]} (AUC = {roc_auc:.2f})\")\n",
        "\n",
        "    plt.plot([0, 1], [0, 1], 'k--', label=\"Random\")\n",
        "    plt.xlabel('False Positive Rate')\n",
        "    plt.ylabel('True Positive Rate')\n",
        "    plt.title(f'ROC Curves for {model_name}')\n",
        "    plt.legend(loc=\"lower right\")\n",
        "    plt.grid()\n",
        "    plt.show()\n",
        "\n",
        "# Run the function\n",
        "plot_roc_curves(y_true, probs, label_cols, model_name=\"RoBERTa\")\n"
      ],
      "metadata": {
        "colab": {
          "base_uri": "https://localhost:8080/",
          "height": 718
        },
        "id": "_jPm5usb2BPT",
        "outputId": "cc824059-1658-4b4c-c2a8-b3ad25adcf7a"
      },
      "execution_count": null,
      "outputs": [
        {
          "output_type": "display_data",
          "data": {
            "text/plain": [
              "<Figure size 1000x800 with 1 Axes>"
            ],
            "image/png": "[encoded data removed]"
          },
          "metadata": {}
        }
      ]
    },
    {
      "cell_type": "code",
      "source": [
        "import matplotlib.pyplot as plt\n",
        "import numpy as np\n",
        "\n",
        "# F1-scores for each class\n",
        "f1_distil = [0.81, 0.65, 0.86, 0.50, 0.71, 0.52]    # DistilBERT\n",
        "f1_roberta = [0.85, 0.58, 0.89, 0.42, 0.72, 0.60]   # RoBERTa\n",
        "\n",
        "# Class names\n",
        "classes = ['toxic', 'severe_toxic', 'obscene', 'threat', 'insult', 'identity_hate']\n",
        "\n",
        "# Set up bar positions\n",
        "x = np.arange(len(classes))\n",
        "width = 0.35\n",
        "\n",
        "# Create plot\n",
        "fig, ax = plt.subplots(figsize=(10, 6))\n",
        "ax.bar(x - width/2, f1_distil, width, label='DistilBERT')\n",
        "ax.bar(x + width/2, f1_roberta, width, label='RoBERTa')\n",
        "\n",
        "# Customize plot\n",
        "ax.set_ylabel('F1-Score')\n",
        "ax.set_title('F1-Score by Class and Model')\n",
        "ax.set_xticks(x)\n",
        "ax.set_xticklabels(classes)\n",
        "ax.set_ylim(0, 1.0)\n",
        "ax.legend()\n",
        "\n",
        "plt.tight_layout()\n",
        "plt.show()\n"
      ],
      "metadata": {
        "colab": {
          "base_uri": "https://localhost:8080/",
          "height": 607
        },
        "id": "VgpLR6297mgo",
        "outputId": "a172fe04-f0a6-4efa-91b1-57959a0d94cd"
      },
      "execution_count": null,
      "outputs": [
        {
          "output_type": "display_data",
          "data": {
            "text/plain": [
              "<Figure size 1000x600 with 1 Axes>"
            ],
            "image/png": "[encoded data removed]"
          },
          "metadata": {}
        }
      ]
    },
    {
      "cell_type": "markdown",
      "source": [
        "### 🔍 Model Comparison: DistilBERT vs RoBERTa\n",
        "\n",
        "The bar plot below compares the F1-scores of DistilBERT and RoBERTa across each class in the toxic comment classification task. This visualization provides insights into which model performs better for specific categories, such as `obscene`, `insult`, and `severe_toxic`, helping us identify the strengths and limitations of each model.\n"
      ],
      "metadata": {
        "id": "rHStIyBD7cpD"
      }
    }
  ]
}